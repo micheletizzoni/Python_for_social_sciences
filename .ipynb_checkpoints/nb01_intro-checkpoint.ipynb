{
 "cells": [
  {
   "cell_type": "markdown",
   "id": "52fd4689-5e17-4c71-b3c9-e8f30af91423",
   "metadata": {},
   "source": [
    "# Introduzione alla programmazione Python per le scienze sociali\n",
    "\n",
    "## Michele Tizzoni\n",
    "## Dipartimento di Sociologia e Ricerca Sociale\n",
    "## Università degli Studi di Trento\n",
    "\n",
    "---"
   ]
  },
  {
   "cell_type": "markdown",
   "id": "1a7aa8d5-6bbe-4555-8bb8-63805378a4ee",
   "metadata": {},
   "source": [
    "# Notebook 1\n",
    "# Basi di Python\n",
    "\n",
    "---"
   ]
  },
  {
   "cell_type": "code",
   "execution_count": null,
   "id": "b12c4cbe-e9da-4a83-b326-736def3dac34",
   "metadata": {},
   "outputs": [],
   "source": []
  }
 ],
 "metadata": {
  "kernelspec": {
   "display_name": "Python 3 (ipykernel)",
   "language": "python",
   "name": "python3"
  },
  "language_info": {
   "codemirror_mode": {
    "name": "ipython",
    "version": 3
   },
   "file_extension": ".py",
   "mimetype": "text/x-python",
   "name": "python",
   "nbconvert_exporter": "python",
   "pygments_lexer": "ipython3",
   "version": "3.9.6"
  }
 },
 "nbformat": 4,
 "nbformat_minor": 5
}
