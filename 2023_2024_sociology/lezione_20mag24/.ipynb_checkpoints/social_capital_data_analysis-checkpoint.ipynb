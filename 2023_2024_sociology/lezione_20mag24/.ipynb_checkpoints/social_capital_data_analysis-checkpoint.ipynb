{
 "cells": [
  {
   "cell_type": "markdown",
   "id": "7f50c61e-1519-47a3-8dad-bab04a226b33",
   "metadata": {},
   "source": [
    "---\n",
    "\n",
    "# Introduzione ai big data e ai metodi computazionali\n",
    "\n",
    "## Laurea in Sociologia\n",
    "\n",
    "\n",
    "\n",
    "# Analisi dati - The Social Capital Atlas\n",
    "\n",
    "Michele Tizzoni\n",
    "\n",
    "---"
   ]
  },
  {
   "cell_type": "markdown",
   "id": "25f3f2a3-8815-40d6-8d14-30ab74ab2a2e",
   "metadata": {},
   "source": [
    "In questo notebook useremo la libreria Pandas per esplorare i dati su cui si basano due studi pubblicati nel 2022:\n",
    "\n",
    "- Chetty, R., Jackson, M.O., Kuchler, T. et al. Social capital I: measurement and associations with economic mobility. Nature 608, 108–121 (2022). https://doi.org/10.1038/s41586-022-04996-4\n",
    "\n",
    "- Chetty, R., Jackson, M.O., Kuchler, T. et al. Social capital II: determinants of economic connectedness. Nature 608, 122–134 (2022). https://doi.org/10.1038/s41586-022-04997-3\n",
    "\n",
    "Gli autori di questi due studi hanno creato una piattaforma dove è possibile esplorare i dati: https://www.socialcapital.org/\n",
    "\n",
    "Inoltre, i dati sono scaricabili tramite il portale Humanitarian Data Exchange: https://data.humdata.org/dataset/social-capital-atlas"
   ]
  },
  {
   "cell_type": "markdown",
   "id": "19e8b41f",
   "metadata": {},
   "source": [
    "### Economic connectedness\n",
    "\n",
    "Gli autori introducono una nuova misura del capitale sociale, la **connessione economica**, che cattura la misura in cui gli individui con uno status socioeconomico (SES) elevato sono amici di persone con un basso SES. Gli autori definiscono la **connessione economica** come la frazione di amici di una persona che guadagnano più del reddito medio, divisa per 0.5 (la frazione prevista se le connessioni sociali fossero casuali). Ad esempio, se il 40% dei collegamenti di una persona che guadagna al di sotto del reddito mediano sono con persone che guadagnano al di sopra del reddito mediano, allora la connessione economica è pari a 0.8; in altre parole, gli amici ad alto reddito sono sottorappresentati del 20% nel gruppo di amicizia di quella persona."
   ]
  },
  {
   "cell_type": "code",
   "execution_count": null,
   "id": "591317a7-cc10-4c1b-bda1-54438cd07239",
   "metadata": {},
   "outputs": [],
   "source": [
    "import pandas as pd"
   ]
  },
  {
   "cell_type": "code",
   "execution_count": null,
   "id": "ed612488",
   "metadata": {},
   "outputs": [],
   "source": [
    "import matplotlib.pyplot as plt\n",
    "%matplotlib inline"
   ]
  },
  {
   "cell_type": "code",
   "execution_count": null,
   "id": "4c4c24b6",
   "metadata": {},
   "outputs": [],
   "source": [
    "df = pd.read_csv('./social_capital_county.csv')"
   ]
  },
  {
   "cell_type": "code",
   "execution_count": null,
   "id": "96d22c6e",
   "metadata": {},
   "outputs": [],
   "source": [
    "df.head()"
   ]
  },
  {
   "cell_type": "code",
   "execution_count": null,
   "id": "463f8261",
   "metadata": {},
   "outputs": [],
   "source": [
    "df.info()"
   ]
  },
  {
   "cell_type": "markdown",
   "id": "f64d0c4a",
   "metadata": {},
   "source": [
    "Il file README contiene una descrizione di tutte le variabili. Qui ne riportiamo solo alcune:\n",
    "* `county`: 5-digit county FIPS code.\n",
    "* `county_name`: Name of the county and state.\n",
    "* `pop_2018`: Population in 2018.\n",
    "* `num_below_p50`: Number of children with below-national-median parental household income.\n",
    "\n",
    "\n",
    "* `ec_county`: Baseline definition of economic connectedness.\n",
    "* `ec_se_county`: The standard error of economic connectedness, incorporating both sampling error and error from the addition of noise to protect privacy.\n",
    "* `child_ec_county`: Childhood economic connectedness.\n",
    "* `child_ec_se_county`: The standard error of childhood economic connectedness.\n",
    "\n",
    "\n",
    "* `clustering_county`: The average fraction of an individual’s friend pairs who are also friends with each other.\n",
    "* `volunteering_rate_county`: The percentage of Facebook users who are members of a group which is predicted to be about ‘volunteering’.\n",
    "* `civic_organizations_county`: The number of Facebook Pages predicted to be “Public Good” pages.\n",
    "\n"
   ]
  },
  {
   "cell_type": "markdown",
   "id": "251d9555",
   "metadata": {},
   "source": [
    "## Selezione\n",
    "\n",
    "Proviamo a selezionare i dati corrispondenti ad un solo Stato alla volta. "
   ]
  },
  {
   "cell_type": "code",
   "execution_count": null,
   "id": "a69d3a37",
   "metadata": {},
   "outputs": [],
   "source": [
    "df_alabama = df[df['county_name'].str.contains('Alabama')]"
   ]
  },
  {
   "cell_type": "code",
   "execution_count": null,
   "id": "850762b8",
   "metadata": {},
   "outputs": [],
   "source": [
    "df_alabama"
   ]
  },
  {
   "cell_type": "code",
   "execution_count": null,
   "id": "ef169575",
   "metadata": {},
   "outputs": [],
   "source": [
    "df_ny = df[df['county_name'].str.contains('New York')]"
   ]
  },
  {
   "cell_type": "code",
   "execution_count": null,
   "id": "6acb4bb0",
   "metadata": {},
   "outputs": [],
   "source": [
    "df_ny"
   ]
  },
  {
   "cell_type": "code",
   "execution_count": null,
   "id": "d77e229e",
   "metadata": {},
   "outputs": [],
   "source": [
    "alabama_ec_mean = df_alabama['ec_county'].mean()\n",
    "ny_ec_mean = df_ny['ec_county'].mean()"
   ]
  },
  {
   "cell_type": "code",
   "execution_count": null,
   "id": "24b0622a",
   "metadata": {},
   "outputs": [],
   "source": [
    "alabama_ec_mean"
   ]
  },
  {
   "cell_type": "code",
   "execution_count": null,
   "id": "fd68fadb",
   "metadata": {},
   "outputs": [],
   "source": [
    "ny_ec_mean"
   ]
  },
  {
   "cell_type": "markdown",
   "id": "0ae04f5f",
   "metadata": {},
   "source": [
    "## GroupBy\n",
    "\n",
    "Proviamo a calcolare la media dell'indice EC per ogni stato."
   ]
  },
  {
   "cell_type": "markdown",
   "id": "d49b5526",
   "metadata": {},
   "source": [
    "## Grafico\n",
    "\n",
    "Costruiamo un grafico che mette in relazione la connessione economica e il tasso di volontariato nelle contee americane. "
   ]
  },
  {
   "cell_type": "code",
   "execution_count": null,
   "id": "e4034cd5",
   "metadata": {},
   "outputs": [],
   "source": [
    "plt.figure(figsize=(8,4))\n",
    "plt.plot( df['ec_county'], df['volunteering_rate_county'], 'o', markersize=2)\n",
    "\n",
    "plt.xlabel('EC index')\n",
    "plt.ylabel('Volunteering rate')"
   ]
  },
  {
   "cell_type": "code",
   "execution_count": null,
   "id": "6a9a52a8",
   "metadata": {},
   "outputs": [],
   "source": [
    "df['ec_county'].mean()"
   ]
  },
  {
   "cell_type": "code",
   "execution_count": null,
   "id": "82c17cf8",
   "metadata": {},
   "outputs": [],
   "source": [
    "df['volunteering_rate_county'].mean()"
   ]
  },
  {
   "cell_type": "code",
   "execution_count": null,
   "id": "e572070c",
   "metadata": {},
   "outputs": [],
   "source": [
    "df[ df['volunteering_rate_county']>0.23 ]"
   ]
  },
  {
   "cell_type": "markdown",
   "id": "71305db3",
   "metadata": {},
   "source": [
    "# Parte 2: Introduzione a Geopandas\n",
    "\n",
    "Geopandas è una libreria Python chec consente l'analisi di dati georeferenziati. "
   ]
  },
  {
   "cell_type": "code",
   "execution_count": null,
   "id": "3496a8a6",
   "metadata": {},
   "outputs": [],
   "source": [
    "import geopandas as gpd"
   ]
  },
  {
   "cell_type": "code",
   "execution_count": null,
   "id": "22e6aba7",
   "metadata": {},
   "outputs": [],
   "source": [
    "usa = gpd.read_file('./cb_2018_us_county_5m/cb_2018_us_county_5m.shp')"
   ]
  },
  {
   "cell_type": "code",
   "execution_count": null,
   "id": "449d102c",
   "metadata": {},
   "outputs": [],
   "source": [
    "usa.head()"
   ]
  },
  {
   "cell_type": "code",
   "execution_count": null,
   "id": "de47c47f",
   "metadata": {},
   "outputs": [],
   "source": [
    "usa.plot(figsize=(20,10))"
   ]
  },
  {
   "cell_type": "code",
   "execution_count": null,
   "id": "ad002755",
   "metadata": {},
   "outputs": [],
   "source": [
    "geo_alabama = usa[ usa['STATEFP']=='01' ]"
   ]
  },
  {
   "cell_type": "code",
   "execution_count": null,
   "id": "27d67a18",
   "metadata": {},
   "outputs": [],
   "source": [
    "geo_alabama.plot()"
   ]
  },
  {
   "cell_type": "code",
   "execution_count": null,
   "id": "37ca8b63",
   "metadata": {},
   "outputs": [],
   "source": [
    "geo_alabama"
   ]
  },
  {
   "cell_type": "code",
   "execution_count": null,
   "id": "29f844c1",
   "metadata": {},
   "outputs": [],
   "source": [
    "geo_alabama['county'] = geo_alabama['GEOID'].transform(int)"
   ]
  },
  {
   "cell_type": "code",
   "execution_count": null,
   "id": "b33b43f4",
   "metadata": {},
   "outputs": [],
   "source": [
    "geo_alabama"
   ]
  },
  {
   "cell_type": "code",
   "execution_count": null,
   "id": "d52dd30f",
   "metadata": {},
   "outputs": [],
   "source": [
    "df_alabama.head()"
   ]
  },
  {
   "cell_type": "code",
   "execution_count": null,
   "id": "6b3df7c7",
   "metadata": {},
   "outputs": [],
   "source": [
    "geo_alabama = pd.merge(geo_alabama, df_alabama, on='county', how='inner')"
   ]
  },
  {
   "cell_type": "code",
   "execution_count": null,
   "id": "cec4a462",
   "metadata": {},
   "outputs": [],
   "source": [
    "geo_alabama.plot(column='pop2018', cmap='BuGn', edgecolor='k', legend=True)"
   ]
  },
  {
   "cell_type": "code",
   "execution_count": null,
   "id": "bfed69be",
   "metadata": {},
   "outputs": [],
   "source": [
    "geo_alabama.plot(column='ec_county', cmap='BuGn', edgecolor='k', legend=True)"
   ]
  },
  {
   "cell_type": "markdown",
   "id": "746c0ec2",
   "metadata": {},
   "source": [
    "# Italia"
   ]
  },
  {
   "cell_type": "code",
   "execution_count": null,
   "id": "fce0a6ed",
   "metadata": {},
   "outputs": [],
   "source": [
    "italia = gpd.read_file('./Limiti01012023_g/ProvCM01012023_g/ProvCM01012023_g_WGS84.shp')"
   ]
  },
  {
   "cell_type": "code",
   "execution_count": null,
   "id": "9f073f8f",
   "metadata": {},
   "outputs": [],
   "source": [
    "italia.head()"
   ]
  },
  {
   "cell_type": "code",
   "execution_count": null,
   "id": "e9a5aeaf",
   "metadata": {},
   "outputs": [],
   "source": [
    "italia.DEN_UTS"
   ]
  },
  {
   "cell_type": "code",
   "execution_count": null,
   "id": "399ada4e",
   "metadata": {},
   "outputs": [],
   "source": [
    "italia.plot(figsize=(7,14))"
   ]
  }
 ],
 "metadata": {
  "kernelspec": {
   "display_name": "Python 3 (ipykernel)",
   "language": "python",
   "name": "python3"
  },
  "language_info": {
   "codemirror_mode": {
    "name": "ipython",
    "version": 3
   },
   "file_extension": ".py",
   "mimetype": "text/x-python",
   "name": "python",
   "nbconvert_exporter": "python",
   "pygments_lexer": "ipython3",
   "version": "3.11.3"
  }
 },
 "nbformat": 4,
 "nbformat_minor": 5
}
