{
 "cells": [
  {
   "cell_type": "markdown",
   "id": "2e1176ff",
   "metadata": {},
   "source": [
    "---\n",
    "\n",
    "# Introduzione ai big data e ai metodi computazionali\n",
    "\n",
    "## Laurea in Sociologia\n",
    "\n",
    "\n",
    "\n",
    "# Esercitazione 1 \n",
    "\n",
    "Michele Tizzoni\n",
    "\n",
    "---"
   ]
  },
  {
   "cell_type": "markdown",
   "id": "a36546db",
   "metadata": {},
   "source": [
    "# Esercizi - Basi"
   ]
  },
  {
   "cell_type": "markdown",
   "id": "4cba5817",
   "metadata": {},
   "source": [
    "## Es 1\n",
    "\n",
    "Dato il valore del raggio `r`, e l'altezza `h`, calcolare le due quantità seguenti e salvarle in tre diverse variabili:\n",
    "\n",
    "- L’area di un cerchio di raggio `r`: a = $\\pi \\times r^2$.\n",
    "- Il volume di un cilindro avente come base il cerchio di raggio `r` e altezza `h`: v1 = $h \\times \\pi r^2$.\n",
    "\n",
    "\n",
    "Una volta calcolate le variabili `a`, e `v1` stampare con il comando `print()` la seguente espressione:\n",
    "\n",
    "```\n",
    "L'area di un cerchio di raggio `r` è uguale a `a`.\n",
    "\n",
    "Il volume di un cilindro con base il cerchio di raggio `r` e altezza `h` è uguale a `v1`.\n",
    "```\n",
    "\n"
   ]
  },
  {
   "cell_type": "code",
   "execution_count": 3,
   "id": "54f35a2c",
   "metadata": {},
   "outputs": [
    {
     "name": "stdout",
     "output_type": "stream",
     "text": [
      "L'area di un cerchio di raggio 2.5 è uguale a 19.634954084936208.\n",
      "Il volume di un cilindro con base il cerchio di raggio 2.5 e altezza 4 è uguale a 78.53981633974483.\n"
     ]
    }
   ],
   "source": [
    "import math\n",
    "\n",
    "r = 2.5\n",
    "h = 4\n",
    "\n",
    "#scrivi qui di seguito la soluzione \n",
    "\n",
    "#calcolo l'area del cerchio\n",
    "a = math.pi*r**2 \n",
    "\n",
    "#calcolo il volume del cilindro\n",
    "v1 = h*a\n",
    "\n",
    "frase1 = \"L'area di un cerchio di raggio \"+str(r)+\" è uguale a \"+str(a)+\".\"\n",
    "frase2 = \"Il volume di un cilindro con base il cerchio di raggio \"+str(r)+\" e altezza \"+str(h)+\" è uguale a \"+str(v1)+\".\"\n",
    "print(frase1)\n",
    "print(frase2)\n",
    "\n"
   ]
  },
  {
   "cell_type": "markdown",
   "id": "d932404d",
   "metadata": {},
   "source": [
    "## Es 2 "
   ]
  },
  {
   "cell_type": "markdown",
   "id": "419e1343-f3a4-4fdf-b1af-4b7ba91157fc",
   "metadata": {},
   "source": [
    "Dato il valore del raggio `r` scrivere un'espressione che stampa `True` se e solo se sono verificate due condizioni contemporaneamente:\n",
    "\n",
    "1. un cerchio di area `a_cerchio` ha una superficie **minore** del cerchio di raggio `r`.\n",
    "2. una cubo di volume `v_cubo` ha un volume **maggiore** del cilindro di raggio `r` e altezza `h`\n"
   ]
  },
  {
   "cell_type": "code",
   "execution_count": 5,
   "id": "44cb21b9-6c67-4f82-b3c5-214811cbddb5",
   "metadata": {
    "tags": []
   },
   "outputs": [
    {
     "name": "stdout",
     "output_type": "stream",
     "text": [
      "La condizione da verificare è True\n"
     ]
    }
   ],
   "source": [
    "r = 2.5\n",
    "a_cerchio = 1\n",
    "v_cubo = 500\n",
    "\n",
    "#scrivi qui di seguito la soluzione \n",
    "\n",
    "#calcolo l'area del cerchio\n",
    "a = math.pi*r**2\n",
    "\n",
    "#calcolo il volume del cilindro\n",
    "v1 = h*a\n",
    "\n",
    "risultato = (a_cerchio < a) and (v_cubo > v1)\n",
    "\n",
    "print('La condizione da verificare è', risultato)\n"
   ]
  },
  {
   "cell_type": "markdown",
   "id": "ffdd4b2b",
   "metadata": {},
   "source": [
    "## Es. 3\n",
    "\n",
    "In demografia l'indice di vecchiaia (old age index) misura il rapporto tra la popolazione over 65 e quella under 5 di un paese.\n",
    "\n",
    "Indichiamo con `pop_ita` la popolazione italiana nel 2023 e con `pop_5` il numero di bambini di età inferiore ai 5 anni, e con `pop_65` il numero di persone di età superiore ai 65 anni.\n",
    "\n",
    "1. Calcolare la percentuale di popolazione corrispondente a `pop_5` e `pop_65`;\n",
    "2. Calcolare l'indice di vecchiaia dell'Italia."
   ]
  },
  {
   "cell_type": "code",
   "execution_count": 11,
   "id": "8addc441",
   "metadata": {},
   "outputs": [
    {
     "name": "stdout",
     "output_type": "stream",
     "text": [
      "In Italia i bambini con meno di 5 anni, sono il 3.5% della popolazione.\n",
      "In Italia gli anziani con più di 65 anni di età, sono il 24.0% della popolazione.\n",
      "L'indice di vecchiaia è: 6.80\n"
     ]
    }
   ],
   "source": [
    "pop_ita = 58997201\n",
    "pop_5 = 2085244\n",
    "pop_65 = 14181307\n",
    "\n",
    "#scrivi qui di seguito la soluzione \n",
    "\n",
    "#calcolo la percentuale di popolazione\n",
    "perc_5 = (pop_5*100)/pop_ita\n",
    "perc_65 = (pop_65*100)/pop_ita\n",
    "\n",
    "print('In Italia i bambini con meno di 5 anni, sono il '+str(perc_5)[:3]+'% della popolazione.')\n",
    "print('In Italia gli anziani con più di 65 anni di età, sono il '+str(perc_65)[:4]+'% della popolazione.')\n",
    "\n",
    "\n",
    "#calcolo l'indice di vecchiaia\n",
    "old_age_index = pop_65/pop_5\n",
    "\n",
    "print(\"L'indice di vecchiaia è: \"+str(old_age_index)[:4])"
   ]
  },
  {
   "cell_type": "markdown",
   "id": "f23a4a55",
   "metadata": {},
   "source": [
    "# Esercizi - stringhe"
   ]
  },
  {
   "cell_type": "markdown",
   "id": "3214dfcd-6e89-4a18-b589-238c0e567fe1",
   "metadata": {},
   "source": [
    "## Es. 1\n",
    "\n",
    "Data la stringa con il famoso scioglilingua: \n",
    "\n",
    "```\n",
    "Trentatré trentini entrarono trotterellando in Trento tutti e trentatré trotterellando\n",
    "```\n",
    "\n",
    "- contare quante volte compaiono nella stringa le sequenza di lettere: 'tre', 'tré' o 'Tre'\n",
    "- sostituire nella stringa le parole 'Trentatré' e 'trentatré' con '33' e salvare il risultato in una nuova stringa\n"
   ]
  },
  {
   "cell_type": "code",
   "execution_count": 16,
   "id": "3ed12675-c999-460e-a61b-d5d01f913fc0",
   "metadata": {
    "tags": []
   },
   "outputs": [
    {
     "name": "stdout",
     "output_type": "stream",
     "text": [
      "Nella stringa compaiono le sequenze :\n",
      "tre : 2 volte\n",
      "tré : 2 volte\n",
      "Tre : 2 volte\n",
      "33 trentini entrarono trotterellando in Trento tutti e 33 trotterellando\n"
     ]
    }
   ],
   "source": [
    "stringa = \"Trentatré trentini entrarono trotterellando in Trento tutti e trentatré trotterellando\"\n",
    "\n",
    "#scrivi qui di seguito la soluzione \n",
    "\n",
    "#conto quante volte compare ogni stringa\n",
    "c1 = stringa.count('tre')\n",
    "c2 = stringa.count('tré')\n",
    "c3 = stringa.count('Tre')\n",
    "\n",
    "print('Nella stringa compaiono le sequenze :')\n",
    "print('tre :', c1, 'volte')\n",
    "print('tré :', c2, 'volte')\n",
    "print('Tre :', c3, 'volte')\n",
    "\n",
    "#sostituisco le parole e salvo in una nuova stringa\n",
    "new_stringa = stringa.replace('Trentatré','33').replace('trentatré','33')\n",
    "\n",
    "print(new_stringa)"
   ]
  },
  {
   "cell_type": "markdown",
   "id": "651eaf09",
   "metadata": {},
   "source": [
    "## Es. 2\n",
    "\n",
    "Un gruppo anonimo di hackers ha acquisito una lista di indirizzi email che vorrebbe usare per accedere al conto corrente degli ignari utenti della banca \"MyBank\". Per prima cosa è necessario verificare se ogni indirizzo email è composto in modo corretto.\n",
    "\n",
    "Gli hackers sanno che ogni indirizzo email di un utente dovrebbe essere così composto:\n",
    "\n",
    "`[solo lettere].[solo lettere]@mybank.com`\n",
    "\n",
    "Per esempio questo è un indirizzo email valido: `nome.cognome@mybank.com`.\n",
    "\n",
    "Scrivi del codice che stampa `True` se la stringa è un indirizzo email valido, `False` altrimenti.\n",
    "\n",
    "Prova le varie combinazioni scommentando la variabile `email`\n",
    "\n",
    "Il codice deve essere generico, valido per qualsiasi stringa."
   ]
  },
  {
   "cell_type": "code",
   "execution_count": 24,
   "id": "76b83d36",
   "metadata": {},
   "outputs": [
    {
     "name": "stdout",
     "output_type": "stream",
     "text": [
      "L'indirizzo email finisce con mybank.com? True\n",
      "True False\n",
      "L'indirizzo email è corretto  False\n"
     ]
    }
   ],
   "source": [
    "#email = 'nome.cognome@mybank.com' #True\n",
    "#email = 'mio.nome@aol.com' #False\n",
    "email = 'nome.1@mybank.com' #False\n",
    "#email = 'maybank.com' #False\n",
    "#email = 'mio.nome@mybank.it' #False\n",
    "\n",
    "\n",
    "#scrivi qui di seguito la soluzione\n",
    "\n",
    "\n",
    "elista = email.split('@')\n",
    "\n",
    "condizione1 = (elista[1]=='mybank.com')\n",
    "\n",
    "print(\"L'indirizzo email finisce con mybank.com?\", condizione1)\n",
    "\n",
    "lista2 = elista[0].split('.')\n",
    "\n",
    "condizione2 = lista2[0].isalpha()\n",
    "condizione3 = lista2[1].isalpha()\n",
    "\n",
    "print(condizione2, condizione3)\n",
    "\n",
    "condizione_fin = condizione1 and condizione2 and condizione3\n",
    "\n",
    "print(\"L'indirizzo email è corretto \", condizione_fin)\n"
   ]
  },
  {
   "cell_type": "markdown",
   "id": "d367224e",
   "metadata": {},
   "source": [
    "# Esercizi - liste"
   ]
  },
  {
   "cell_type": "markdown",
   "id": "10946524",
   "metadata": {},
   "source": [
    "## Es 1"
   ]
  },
  {
   "cell_type": "markdown",
   "id": "64d5f733",
   "metadata": {},
   "source": [
    "Data la stringa con il famoso scioglilingua: \n",
    "\n",
    "```\n",
    "Trentatré trentini entrarono trotterellando in Trento tutti e trentatré trotterellando\n",
    "```\n",
    "\n",
    "- stampare la lista che contiene tutte le parole dello scioglilingua\n",
    "- scrivere del codice che restituisce `True` se e solo se la prima parola della lista è \"Trentatré\" e l'ultima parola della lista è \"trotterellando\""
   ]
  },
  {
   "cell_type": "code",
   "execution_count": 26,
   "id": "16438800",
   "metadata": {},
   "outputs": [
    {
     "name": "stdout",
     "output_type": "stream",
     "text": [
      "['Trentatré', 'trentini', 'entrarono', 'trotterellando', 'in', 'Trento', 'tutti', 'e', 'trentatré', 'trotterellando']\n"
     ]
    },
    {
     "data": {
      "text/plain": [
       "True"
      ]
     },
     "execution_count": 26,
     "metadata": {},
     "output_type": "execute_result"
    }
   ],
   "source": [
    "stringa = \"Trentatré trentini entrarono trotterellando in Trento tutti e trentatré trotterellando\"\n",
    "\n",
    "#scrivi qui di seguito la soluzione \n",
    "\n",
    "lista = stringa.split()\n",
    "print(lista)\n",
    "\n",
    "\n",
    "(lista[0]=='Trentatré') and (lista[-1]=='trotterellando')"
   ]
  },
  {
   "cell_type": "markdown",
   "id": "0cc6f4fc",
   "metadata": {},
   "source": [
    "## Es. 2"
   ]
  },
  {
   "cell_type": "markdown",
   "id": "eae0e208",
   "metadata": {},
   "source": [
    "`voti` è una lista contenente i tuoi voti. Complimenti! \n",
    "1. Riesci a calcolarne la media? \n",
    "2. Stampa la lista con i voti ordine crescente, dal più basso al più alto"
   ]
  },
  {
   "cell_type": "code",
   "execution_count": 31,
   "id": "6d5eed98",
   "metadata": {},
   "outputs": [
    {
     "name": "stdout",
     "output_type": "stream",
     "text": [
      "La mia media è:  28.75\n",
      "La lista di voti ordinata è:\n",
      "[27, 27, 28, 29, 29, 30, 30, 30]\n"
     ]
    }
   ],
   "source": [
    "voti = [28, 29, 29, 30, 30, 27, 30, 27]\n",
    "\n",
    "#scrivi qui di seguito la soluzione \n",
    "\n",
    "media_voti = sum(voti)/len(voti)\n",
    "\n",
    "print('La mia media è: ', media_voti)\n",
    "\n",
    "print('La lista di voti ordinata è:')\n",
    "print(sorted(voti))"
   ]
  },
  {
   "cell_type": "markdown",
   "id": "909af8c4",
   "metadata": {},
   "source": [
    "## Es . 3\n",
    "\n",
    "Un indirizzo MAC (Media Access Control address) è un indirizzo univoco associato dal produttore a un chipset per comunicazioni wireless (es WiFi o Bluetooth), composto da 6 coppie di cifre esadecimali separate da due punti.\n",
    "\n",
    "Un esempio di MAC è `02:FF:A5:F2:55:12` dove '02' è la prima coppia, 'FF' è la seconda e '12' è l'ultima.\n",
    "\n",
    "Scrivi un codice che a partire da un indirizzo MAC dato, come quello d'esempio:\n",
    "- stampa la lista che contiene tutte le 6 coppie di cifre esadecimali (lettere o numeri) che formano l'indirizzo MAC,\n",
    "- stampa `True` se le coppie di cifre sono esattamente 6 e `False` altrimenti,\n",
    "- salva il primo e l'ultimo numero dell'indirizzo MAC come interi e ne stampa la somma."
   ]
  },
  {
   "cell_type": "code",
   "execution_count": 38,
   "id": "1f744580",
   "metadata": {},
   "outputs": [
    {
     "name": "stdout",
     "output_type": "stream",
     "text": [
      "['02', 'FF', 'A5', 'F2', '55', '12']\n",
      "L'indirizzo MAC contiene 6 elementi? True\n",
      "La somma è 14\n"
     ]
    }
   ],
   "source": [
    "MAC = '02:FF:A5:F2:55:12'\n",
    "\n",
    "#scrivi qui di seguito la soluzione \n",
    "\n",
    "lista = MAC.split(':') \n",
    "print(lista)\n",
    "\n",
    "cond1 = (len(lista)==6)\n",
    "print(\"L'indirizzo MAC contiene 6 elementi?\", cond1) \n",
    "\n",
    "a1=int(lista[0])\n",
    "a2=int(lista[-1])\n",
    "print('La somma è', a1+a2)\n"
   ]
  },
  {
   "cell_type": "markdown",
   "id": "00c23889",
   "metadata": {},
   "source": [
    "# Esercizi - dizionari"
   ]
  },
  {
   "cell_type": "markdown",
   "id": "f6678227",
   "metadata": {},
   "source": [
    "## Es. 1\n",
    "\n",
    "Dato il dizionario\n",
    "\n",
    "```python\n",
    "rubrica = {\n",
    "    'Anna': '+39 032135',\n",
    "    'Carlo': '+39 999111',\n",
    "    'Sofia': '+39 222333',\n",
    "    'Lucia': '+39 444555',\n",
    "    'Michele': '+39 909091',\n",
    "}\n",
    "```\n",
    "\n",
    "- modificare il dizionario e aggiungere una nuova chiave 'Marco' con numero di telefono '+42 657332'\n",
    "- scrivere del codice che restituisce True se e solo se la rubrica contiene i numeri di **meno** di 10 persone"
   ]
  },
  {
   "cell_type": "code",
   "execution_count": 40,
   "id": "949c9a85",
   "metadata": {},
   "outputs": [
    {
     "name": "stdout",
     "output_type": "stream",
     "text": [
      "{'Anna': '+39 032135', 'Carlo': '+39 999111', 'Sofia': '+39 222333', 'Lucia': '+39 444555', 'Michele': '+39 909091', 'Marco': '+42 657332'}\n",
      "In rubrica ci sono meno di 10 persone? True\n"
     ]
    }
   ],
   "source": [
    "rubrica = {\n",
    "    'Anna': '+39 032135',\n",
    "    'Carlo': '+39 999111',\n",
    "    'Sofia': '+39 222333',\n",
    "    'Lucia': '+39 444555',\n",
    "    'Michele': '+39 909091',\n",
    "}\n",
    "\n",
    "#scrivi qui di seguito la soluzione\n",
    "\n",
    "rubrica['Marco'] = '+42 657332'\n",
    "print(rubrica)\n",
    "\n",
    "\n",
    "cond2 = len(rubrica)<10\n",
    "print('In rubrica ci sono meno di 10 persone?', cond2)"
   ]
  },
  {
   "cell_type": "markdown",
   "id": "e2ffe8c7",
   "metadata": {},
   "source": [
    "## Es. 2\n",
    "\n",
    "Dato il dizionario\n",
    "\n",
    "```python\n",
    "mappa = {\n",
    "    \"zero\": 1,\n",
    "    \"uno\": 2,\n",
    "    \"due\": 4,\n",
    "    \"tre\": 8,\n",
    "    \"quattro\": 16,\n",
    "}\n",
    "```\n",
    "\n",
    "- scrivere del codice che produce la stringa `concat_chiavi` che è uguale a: `zero_uno_due_tre_quattro`.\n",
    "- scrivere del codice che stampa la somma di tutti a valori del dizionario"
   ]
  },
  {
   "cell_type": "code",
   "execution_count": 47,
   "id": "781a8182",
   "metadata": {},
   "outputs": [
    {
     "name": "stdout",
     "output_type": "stream",
     "text": [
      "dict_keys(['zero', 'uno', 'due', 'tre', 'quattro'])\n",
      "La stringa delle chiavi concatenate è: zero_uno_due_tre_quattro\n",
      "La somma dei valori del dizionario è: 31\n"
     ]
    }
   ],
   "source": [
    "mappa = {\n",
    "    \"zero\": 1,\n",
    "    \"uno\": 2,\n",
    "    \"due\": 4,\n",
    "    \"tre\": 8,\n",
    "    \"quattro\": 16,\n",
    "}\n",
    "\n",
    "#scrivi qui di seguito la soluzione\n",
    "\n",
    "chiavi = mappa.keys()\n",
    "print(chiavi)\n",
    "\n",
    "concat_chiavi = '_'.join(chiavi)\n",
    "print('La stringa delle chiavi concatenate è:', concat_chiavi)\n",
    "\n",
    "somma = sum(mappa.values())\n",
    "print('La somma dei valori del dizionario è:', somma)"
   ]
  },
  {
   "cell_type": "markdown",
   "id": "f13151de",
   "metadata": {},
   "source": [
    "## Es. 3\n",
    "\n",
    "Una compagnia di pescatori ogni giorno cattura dei `pesci` che poi rivende a vari ristoranti. Ogni ristorante richiede diversi specie di pesci. \n",
    "\n",
    "Dati un `ristorante` e dei `pesci`, scrivi del codice che stampa `True` se il ristorante cucina quei pesci, altrimenti stampa `False`."
   ]
  },
  {
   "cell_type": "code",
   "execution_count": 1,
   "id": "7d29428c",
   "metadata": {},
   "outputs": [
    {
     "name": "stdout",
     "output_type": "stream",
     "text": [
      "Il ristorante Il Galeone cucina carpe ? True\n"
     ]
    }
   ],
   "source": [
    "ristorante, pesci = \"Il Galeone\", \"carpe\"            # True\n",
    "#ristorante, pesci = \"Il Galeone\", \"aringhe\"         # False\n",
    "#ristorante, pesci = \"Al Molo\",    \"trote\"           # True\n",
    "#ristorante, pesci = \"Al Molo\",    \"orate\"           # False\n",
    "#ristorante, pesci = \"La Cambusa\", \"merluzzi\"        # False\n",
    "\n",
    "\n",
    "registro = {\n",
    "    \"L'Ancora\"  : ['aringhe', 'carpe'],\n",
    "    \"Il Galeone\": ['merluzzi', 'carpe', 'trote'],\n",
    "    \"Al Molo\"   : ['trote'],\n",
    "    \"La Cambusa\": ['aringhe', 'carpe'],\n",
    "}\n",
    "\n",
    "# scrivi qui di seguito la soluzione\n",
    "\n",
    "check = pesci in registro[ristorante]\n",
    "\n",
    "print('Il ristorante', ristorante, 'cucina', pesci,'?', check)\n"
   ]
  },
  {
   "cell_type": "markdown",
   "id": "faf5465a",
   "metadata": {},
   "source": [
    "# Esercizi - set\n",
    "\n",
    "## Es. 1\n",
    "\n",
    "Evviva! Ci siamo laureati! E per coincidenza ci siamo riusciti nella stessa sessione dei nostri \n",
    "grandi amici Gianni e Giulia. Ora naturalmente stiamo cercando di organizzare una festa e ci piacerebbe \n",
    "farla tutti insieme. \n",
    "\n",
    "Purtroppo però a causa delle norme Covid non possiamo fare assembramento e \n",
    "sono perciò vietate i raduni con più di **13** persone.\n",
    "\n",
    "Siccome ora siamo dottori, l'idea è quella di risolvere il problema con un bel programmino Python. Abbiamo tre liste di invitati e siccome noi festeggiati siamo tutti amici ci sono ovviamente persone che verrebbero invitate più volte.\n",
    "\n",
    "1. Trova il numero di invitati effettivi (le persone che verranno alla festa)\n",
    "2. Stampa la lista di nomi SENZA duplicati\n",
    "3. Trova il numero delle persone che hanno ricevuto **almeno** 2 inviti\n",
    "4. Trova l'elenco delle persone che hanno ricevuto **almeno** 2 inviti\n",
    "\n",
    "\n",
    "Esempio - dati:\n",
    "\n",
    "```python\n",
    "invitati_miei =   [\"VittorioG\", \"LucaB\", \"DavidL\", \"GiorgioC\", \"MichelaF\", \"GiuliaA\", \"VittorioG\", ]\n",
    "invitati_gianni = [\"SamanthaV\", \"LucaB\", \"GiorgioC\", \"MichelaF\", \"MartaB\", \"EmmaK\"]\n",
    "invitati_giulia = [\"DavidL\", \"GiorgioC\", \"MichelaF\", \"MassimilianoL\", \"VittorioG\", \"RobertoU\", \"EmmaK\"]\n",
    "```\n",
    "\n",
    "\n",
    "dopo il tuo codice, deve stampare:\n",
    "\n",
    "```\n",
    "Invitati miei:  6\n",
    "Invitati gianni:  6\n",
    "Invitati giulia:  7\n",
    "Numero invitati:  11\n",
    "Nomi invitati:  {'MassimilianoL', 'MartaB', 'MichelaF', 'EmmaK', 'GiorgioC', 'DavidL', 'VittorioG', 'SamanthaV', 'RobertoU', 'LucaB', 'GiuliaA'}\n",
    "Numero amici invitati almeno 2 volte: 6\n",
    "Amici invitati almeno due volte:  {'GiorgioC', 'DavidL', 'MichelaF', 'VittorioG', 'LucaB', 'EmmaK'}\n",
    "```\n"
   ]
  },
  {
   "cell_type": "code",
   "execution_count": 5,
   "id": "31f9a708",
   "metadata": {},
   "outputs": [
    {
     "name": "stdout",
     "output_type": "stream",
     "text": [
      "Invitati miei:  6\n",
      "Invitati gianni:  6\n",
      "Invitati giulia:  7\n",
      "Numero invitati : 11\n",
      "Nomi invitati : {'GiuliaA', 'MassimilianoL', 'RobertoU', 'GiorgioC', 'MartaB', 'DavidL', 'EmmaK', 'VittorioG', 'MichelaF', 'SamanthaV', 'LucaB'}\n",
      "Numero di amici invitati almeno 2 volte: 6\n",
      "Amici invitati almeno due volte: {'VittorioG', 'MichelaF', 'GiorgioC', 'EmmaK', 'DavidL', 'LucaB'}\n"
     ]
    }
   ],
   "source": [
    "invitati_miei =   [\"VittorioG\", \"LucaB\", \"DavidL\", \"GiorgioC\", \"MichelaF\", \"GiuliaA\", \"VittorioG\", ]\n",
    "invitati_gianni = [\"SamanthaV\", \"LucaB\", \"GiorgioC\", \"MichelaF\", \"MartaB\", \"EmmaK\"]\n",
    "invitati_giulia = [\"DavidL\", \"GiorgioC\", \"MichelaF\", \"MassimilianoL\", \"VittorioG\", \"RobertoU\", \"EmmaK\"]\n",
    "\n",
    "# scrivi qui la tua soluzione\n",
    "\n",
    "set_miei = set(invitati_miei)\n",
    "set_gianni = set(invitati_gianni)\n",
    "set_giulia = set(invitati_giulia)\n",
    "\n",
    "num_inv_miei = len(set_miei)\n",
    "num_inv_gianni = len(set_gianni)\n",
    "num_inv_giulia = len(set_giulia)\n",
    "\n",
    "#costruisco il set unione dei tre insiemi di invitati, in modo da avere ogni invitato contato una sola volta\n",
    "set_invitati = set_miei | set_gianni | set_giulia\n",
    "num_invitati = len(set_invitati)\n",
    "\n",
    "#cerco i nomi degli invitati due volte\n",
    "inter_miei_gianni = set_miei & set_gianni\n",
    "inter_miei_giulia = set_miei & set_giulia\n",
    "inter_gianni_giulia = set_gianni & set_giulia \n",
    "\n",
    "invitati_doppi = inter_miei_gianni | inter_miei_giulia | inter_gianni_giulia\n",
    "\n",
    "print(\"Invitati miei: \", num_inv_miei)\n",
    "print(\"Invitati gianni: \", num_inv_gianni)\n",
    "print(\"Invitati giulia: \", num_inv_giulia)\n",
    "print(\"Numero invitati :\", num_invitati)\n",
    "print(\"Nomi invitati :\", set_invitati)\n",
    "\n",
    "print(\"Numero di amici invitati almeno 2 volte:\", len(invitati_doppi))\n",
    "print(\"Amici invitati almeno due volte:\", invitati_doppi)\n"
   ]
  },
  {
   "cell_type": "markdown",
   "id": "c33299d9",
   "metadata": {},
   "source": [
    "# Esercizi - tuple\n",
    "\n",
    "## Es. 1\n",
    "\n",
    "Data la stringa `s = \"mela|pera|mela|ciliegia|pera|mela|pera|pera|ciliegia|pera|fragola\"`\n",
    "\n",
    "Inserisci gli elementi separati da `\"|\"` in una lista.\n",
    "    \n",
    "1. Quanti elementi deve avere la lista?\n",
    "2. Sapendo che la lista creata al punto precedente ha solo quattro elementi distinti (es `\"mela\"`, `\"pera\"`, `\"ciliegia\"`, e `\"fragola\"`), crea un'altra lista dove ogni elemento è una tupla contenente il nome del frutto e la sua moltiplicità (cioè il numero di volte che compare nella lista originale). Esempio:\n",
    "\n",
    "```python\n",
    "conteggi = [(\"mela\", 3), (\"pera\",5), ...]\n",
    "```\n",
    "\n",
    "Qua puoi scrivere codice che funziona data una specifica costante, quindi non hai bisogno di cicli.\n",
    "\n",
    "3. Stampa il contenuto di ciascuna tupla in una linea separata (es: prima linea: `\"mela\"` è presente 3 volte)\n",
    "\n",
    "Dovresti ottenere:\n",
    "\n",
    "```bash\n",
    "['mela', 'pera', 'mela', 'ciliegia', 'pera', 'mela', 'pera', 'pera', 'ciliegia', 'pera', 'fragola']\n",
    "[('mela', 3), ('pera', 5), ('ciliegia', 2), ('fragola', 1)] \n",
    "\n",
    "mela  è presente  3  volte\n",
    "pera  è presente  5  volte\n",
    "ciliegia  è presente  2  volte\n",
    "fragola  è presente  1  volte\n",
    "```"
   ]
  },
  {
   "cell_type": "code",
   "execution_count": 9,
   "id": "05069e2c",
   "metadata": {},
   "outputs": [
    {
     "name": "stdout",
     "output_type": "stream",
     "text": [
      "['mela', 'pera', 'mela', 'ciliegia', 'pera', 'mela', 'pera', 'pera', 'ciliegia', 'pera', 'fragola']\n",
      "[('mela', 3), ('pera', 5), ('ciliegia', 2), ('fragola', 1)]\n",
      "mela è presente 3 volte\n",
      "pera è presente 5 volte\n",
      "ciliegia è presente 2 volte\n",
      "fragola è presente 1 volte\n"
     ]
    }
   ],
   "source": [
    "s = \"mela|pera|mela|ciliegia|pera|mela|pera|pera|ciliegia|pera|fragola\"\n",
    "\n",
    "#scrivi qui la tua soluzione\n",
    "frutta = s.split('|')\n",
    "print(frutta)\n",
    "\n",
    "lista_tuple = [('mela', frutta.count('mela')), ('pera', frutta.count('pera')), \n",
    "               ('ciliegia', frutta.count('ciliegia')), ('fragola', frutta.count('fragola'))]\n",
    "print(lista_tuple)\n",
    "\n",
    "print('mela è presente', lista_tuple[0][1], 'volte')\n",
    "print('pera è presente', lista_tuple[1][1], 'volte')\n",
    "print('ciliegia è presente', lista_tuple[2][1], 'volte')\n",
    "print('fragola è presente', lista_tuple[3][1], 'volte')\n",
    "\n"
   ]
  },
  {
   "cell_type": "code",
   "execution_count": null,
   "id": "5336e6f9",
   "metadata": {},
   "outputs": [],
   "source": []
  }
 ],
 "metadata": {
  "kernelspec": {
   "display_name": "Python 3 (ipykernel)",
   "language": "python",
   "name": "python3"
  },
  "language_info": {
   "codemirror_mode": {
    "name": "ipython",
    "version": 3
   },
   "file_extension": ".py",
   "mimetype": "text/x-python",
   "name": "python",
   "nbconvert_exporter": "python",
   "pygments_lexer": "ipython3",
   "version": "3.11.3"
  }
 },
 "nbformat": 4,
 "nbformat_minor": 5
}
