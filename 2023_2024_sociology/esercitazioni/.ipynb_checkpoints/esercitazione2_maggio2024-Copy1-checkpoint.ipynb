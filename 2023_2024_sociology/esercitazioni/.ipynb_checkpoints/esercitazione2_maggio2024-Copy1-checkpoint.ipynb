{
 "cells": [
  {
   "cell_type": "markdown",
   "id": "2e1176ff",
   "metadata": {},
   "source": [
    "---\n",
    "\n",
    "# Introduzione ai big data e ai metodi computazionali\n",
    "\n",
    "## Laurea in Sociologia\n",
    "\n",
    "\n",
    "\n",
    "# Esercitazione 2\n",
    "\n",
    "Michele Tizzoni\n",
    "\n",
    "---"
   ]
  },
  {
   "cell_type": "markdown",
   "id": "4cba5817",
   "metadata": {},
   "source": [
    "# Esercizio 1 - Lettura di file\n",
    "\n",
    "Insieme al notebook trovate il file `cty_covariates.csv`.\n",
    "Si tratta di dati demografici e socio-economici degli Stati Uniti, riportati per ogni contea americana.\n",
    "Il dataset proviene dal sito [Opportunity Atlas](https://www.opportunityatlas.org/).\n",
    "\n",
    "Richieste:\n",
    "1. Usando la libreria `pandas` importare il file dentro un nuovo dataframe.\n",
    "2. Mostrare a schermo le prime 5 righe del dataframe.\n",
    "3. Stampare l'elenco delle variabili che rappresentano le colonne del dataframe.\n"
   ]
  },
  {
   "cell_type": "code",
   "execution_count": null,
   "id": "a534da73-d1b7-4a18-84f5-4fb59fe39190",
   "metadata": {},
   "outputs": [],
   "source": [
    "#scrivi qui la soluzione\n"
   ]
  },
  {
   "cell_type": "markdown",
   "id": "d932404d",
   "metadata": {},
   "source": [
    "# Esercizio 2 - Selezione e analisi\n",
    "\n",
    "Dal dataframe precedente, selezionare la variable `med_hhinc2016` che rappresenta il reddito mediano delle famiglie residenti nell'anno 2016 e identificare (stampando a schermo):\n",
    "\n",
    "1. La contea degli USA con il valore massimo di `med_hhinc2016`.\n",
    "\n",
    "2. Il valore medio di `med_hhinc2016` in tutte le contee degli USA.\n",
    "\n",
    "\n",
    "\n",
    "\n"
   ]
  },
  {
   "cell_type": "code",
   "execution_count": null,
   "id": "7f397754-8959-40bd-8864-b28a8bc72f9b",
   "metadata": {},
   "outputs": [],
   "source": [
    "#salvo in un dataframe la riga con il valore massimo di med_hhinc2016\n"
   ]
  },
  {
   "cell_type": "code",
   "execution_count": null,
   "id": "db0ee100-77e9-4412-878c-92e43ddb0c62",
   "metadata": {
    "tags": []
   },
   "outputs": [],
   "source": [
    "#stampo il nome della contea con il massimo reddito mediano familiare\n"
   ]
  },
  {
   "cell_type": "code",
   "execution_count": null,
   "id": "99d64fcd-d0a5-4fa3-9781-f3134f2de3f5",
   "metadata": {
    "tags": []
   },
   "outputs": [],
   "source": [
    "#stampo la media della variabile med_hhinc2016 su tutte le contee degli USA\n"
   ]
  },
  {
   "cell_type": "markdown",
   "id": "f23a4a55",
   "metadata": {},
   "source": [
    "# Esercizio 3 - Visualizzazione"
   ]
  },
  {
   "cell_type": "markdown",
   "id": "0b695f5b",
   "metadata": {},
   "source": [
    "Usando la libreria `matplotlib` creare una figura che mostri la relazione esistente tra due variabili del dataset importato.\n",
    "In particolare:\n",
    "\n",
    "1. Disegnare un grafico che mostri il reddito mediano famigliare annuo nel 2016 (`med_hhinc2016`) sull'asse y e la percentuale di popolazione afro-americana nel 2010 (`share_black2010`) sull'asse x. I valori devono essere visualizzati come punti blu.\n",
    "\n",
    "2. Aggiungere le seguenti etichette sugli assi: `houseshold median income 2016 ($)` per l'asse y, `share of black population (2010)` per l'asse x.\n"
   ]
  },
  {
   "cell_type": "code",
   "execution_count": null,
   "id": "b2f1360a",
   "metadata": {},
   "outputs": [],
   "source": [
    "import matplotlib.pyplot as plt\n",
    "%matplotlib inline"
   ]
  },
  {
   "cell_type": "code",
   "execution_count": null,
   "id": "a1f66e37",
   "metadata": {},
   "outputs": [],
   "source": []
  },
  {
   "cell_type": "markdown",
   "id": "10946524",
   "metadata": {},
   "source": [
    "# Esercizio 4 - Controllo di flusso"
   ]
  },
  {
   "cell_type": "markdown",
   "id": "64d5f733",
   "metadata": {},
   "source": [
    "Dato il seguente dizionario:\n",
    "\n",
    "```python\n",
    "states={'California': 6, 'Georgia': 13, 'Maine': 23}\n",
    "```\n",
    "che assegna ad ogni stato americano un codice univoco, come quello presente nel dataset, \n",
    "usare un ciclo `for`, per ogni stato presente come chiave del dizionario e:\n",
    "1. selezionare nel dataset solo le contee di quello stato (identificato dalla variable numerica `state`);\n",
    "2. calcolare il valore medio di `med_hhinc2016` in tutte le contee di quello stato;\n",
    "2. stampare il nome dello stato e il valore medio di `med_hhinc2016`."
   ]
  },
  {
   "cell_type": "code",
   "execution_count": null,
   "id": "1a4a8fae",
   "metadata": {},
   "outputs": [],
   "source": [
    "states={'California': 6, 'Georgia': 13, 'Maine':23}"
   ]
  },
  {
   "cell_type": "code",
   "execution_count": null,
   "id": "05b6e91d",
   "metadata": {},
   "outputs": [],
   "source": [
    "#inizio il ciclo for sulle chiavi del dizionario\n"
   ]
  },
  {
   "cell_type": "markdown",
   "id": "00c23889",
   "metadata": {},
   "source": [
    "# Esercizio 5 - Funzioni"
   ]
  },
  {
   "cell_type": "markdown",
   "id": "f6678227",
   "metadata": {},
   "source": [
    "Scrivere una funzione chiamata `analyze_state` che prende come **input** 3 variabili:\n",
    "\n",
    "1. il dataframe con il dataset che stiamo analizzando;\n",
    "2. il dizionario states definito nell'esercizio 4; \n",
    "3. una stringa che rappresenta il nome di uno stato presente come chiave nel dizionario;\n",
    "\n",
    "e restituisce come **output** la seguente scritta:\n",
    "1. \"Nel 2010, la percentuale media di popolazione afro-americana in STATE era AVGBLACK\"\n",
    "\n",
    "dove `STATE` è il nome dello stato e `AVGBLACK` è la media della variabile `share_black2010` nelle contee di quello stato.\n",
    "\n",
    "Verificare che la funzione dia il risultato atteso per lo stato 'California'."
   ]
  },
  {
   "cell_type": "code",
   "execution_count": null,
   "id": "3d4cf814",
   "metadata": {},
   "outputs": [],
   "source": []
  },
  {
   "cell_type": "code",
   "execution_count": null,
   "id": "27afff67-afc0-4567-856d-bf7d550c58d6",
   "metadata": {
    "tags": []
   },
   "outputs": [],
   "source": []
  },
  {
   "cell_type": "code",
   "execution_count": null,
   "id": "6e87da3e-5b56-4496-8a5e-794a6dc01cbd",
   "metadata": {},
   "outputs": [],
   "source": []
  }
 ],
 "metadata": {
  "kernelspec": {
   "display_name": "Python 3 (ipykernel)",
   "language": "python",
   "name": "python3"
  },
  "language_info": {
   "codemirror_mode": {
    "name": "ipython",
    "version": 3
   },
   "file_extension": ".py",
   "mimetype": "text/x-python",
   "name": "python",
   "nbconvert_exporter": "python",
   "pygments_lexer": "ipython3",
   "version": "3.11.3"
  }
 },
 "nbformat": 4,
 "nbformat_minor": 5
}
