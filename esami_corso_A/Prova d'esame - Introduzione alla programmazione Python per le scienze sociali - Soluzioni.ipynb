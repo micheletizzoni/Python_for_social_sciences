{
 "cells": [
  {
   "cell_type": "markdown",
   "id": "2e1176ff",
   "metadata": {},
   "source": [
    "---\n",
    "\n",
    "# Introduzione alla programmazione Python per le scienze sociali\n",
    "\n",
    "\n",
    "\n",
    "# Prova d'esame - Soluzioni\n",
    "\n",
    "Data: 18 aprile 2023\n",
    "\n",
    "Autore: Michele Tizzoni\n",
    "\n",
    "---"
   ]
  },
  {
   "cell_type": "markdown",
   "id": "27e13ff4",
   "metadata": {},
   "source": [
    "# Istruzioni"
   ]
  },
  {
   "cell_type": "markdown",
   "id": "1d689dc2",
   "metadata": {},
   "source": [
    "La prova consiste in 5 esercizi elencati qui di seguito. \n",
    "\n",
    "Ad ogni esercizio è assegnato un punteggio di 2 (due) punti. Due punti vengono assegnati per una soluzione completa e corretta. Un punto può essere assegnato se la soluzione è impostata correttamente o se l'esercizio è risolto parzialmente.\n",
    "\n",
    "E' consigliato aggiungere commenti alle soluzioni proposte, in modo da spiegare che cosa dovrebbe fare il codice che scrivete.\n",
    "\n",
    "La prova si considera superata con un punteggio finale di 6/10. \n",
    "\n",
    "A prova conclusa, salvate il file con le vostre soluzione con il nome \"Prova d'esame [Nome] [Cognome].ipynb\"."
   ]
  },
  {
   "cell_type": "markdown",
   "id": "4cba5817",
   "metadata": {},
   "source": [
    "# Esercizio 1 - Basi\n",
    "\n",
    "Dato il valore del raggio `r`, calcolare le tre quantità seguenti e salvarle in tre diverse variabili:\n",
    "\n",
    "- La circonferenza di raggio `r`: c = $2 \\pi r$.\n",
    "- L’area di un cerchio di raggio `r`: a = $\\pi r^2$.\n",
    "- Il volume di una sfera di raggio `r`: v = $\\frac{4}{3} \\pi r^3$.\n",
    "\n",
    "Una volta calcolate le variabili `c`, `a`, `v` stampare con il comando `print()` la seguente espressione:\n",
    "\n",
    "\n",
    "La circonferenza di raggio uguale a `r` $m$ è uguale a `c` $m$.\n",
    "\n",
    "L\\'area di un cerchio di raggio uguale a `r` $m$ corrisponde a `a` $m^2$.\n",
    "\n",
    "Il volume di una sfera di raggio uguale a `r` $m$ corrisponde a `v` $m^3$.\n",
    "\n"
   ]
  },
  {
   "cell_type": "code",
   "execution_count": 1,
   "id": "54f35a2c",
   "metadata": {},
   "outputs": [
    {
     "name": "stdout",
     "output_type": "stream",
     "text": [
      "La circonferenza di raggio uguale a 2.5 m è uguale a 15.707963267948966 m\n",
      "L'area di un cerchio di raggio uguale a 2.5 m corrisponde a 19.634954084936208 m^2\n",
      "Il volume di una sfera di raggio uguale a 2.5 m corrisponde a 65.44984694978736 m^3\n"
     ]
    }
   ],
   "source": [
    "import math\n",
    "\n",
    "r = 2.5\n",
    "\n",
    "#scrivi qui di seguito la soluzione\n",
    "\n",
    "#calcolo la circonferenza di raggio r\n",
    "c = 2*math.pi*r\n",
    "\n",
    "#calcolo l'area del cerchio di raggio r\n",
    "a = math.pi*(r**2)\n",
    "\n",
    "#calcolo il volume della sfera di raggio r\n",
    "v = (4/3)*math.pi*(r**3)\n",
    "\n",
    "#stampo i risultati come richiesto\n",
    "print('La circonferenza di raggio uguale a', r, 'm è uguale a',c,'m')\n",
    "print('L\\'area di un cerchio di raggio uguale a',r,'m corrisponde a',a,'m^2')\n",
    "print('Il volume di una sfera di raggio uguale a',r,'m corrisponde a',v,'m^3')"
   ]
  },
  {
   "cell_type": "markdown",
   "id": "d932404d",
   "metadata": {},
   "source": [
    "# Esercizio 2 - Basi\n",
    "\n",
    "Dato il valore del raggio `r` scrivere un'espressione che stampa `True` se e solo se sono verificate due condizioni contemporaneamente:\n",
    "\n",
    "1. un segmento di lunghezza `l` è più corto della circonferenza di raggio `r`;\n",
    "2. un cerchio di area `a_cerchio` ha una superficie minore del cerchio di raggio `r`.\n",
    "\n"
   ]
  },
  {
   "cell_type": "code",
   "execution_count": 2,
   "id": "1308dd8d",
   "metadata": {},
   "outputs": [
    {
     "name": "stdout",
     "output_type": "stream",
     "text": [
      "True\n"
     ]
    }
   ],
   "source": [
    "r = 2.5\n",
    "l = 5\n",
    "a_cerchio = 10\n",
    "\n",
    "#scrivi qui di seguito la soluzione\n",
    "\n",
    "#calcolo la circonferenza\n",
    "c = 2*math.pi*r\n",
    "\n",
    "#calcolo l'area del cerchio\n",
    "a = math.pi*(r**2)\n",
    "\n",
    "#controllo che il segmento l sia più corto della circonferenza \n",
    "#e l'area del cerchio data sia minore della superficie del cerchio di raggio r\n",
    "esito = (l<c) and (a_cerchio<a)\n",
    "\n",
    "print(esito)"
   ]
  },
  {
   "cell_type": "markdown",
   "id": "f23a4a55",
   "metadata": {},
   "source": [
    "# Esercizio 3 - stringhe"
   ]
  },
  {
   "cell_type": "markdown",
   "id": "0b695f5b",
   "metadata": {},
   "source": [
    "Un gruppo anonimo di hackers ha acquisito una lista di indirizzi email che vorrebbe usare per accedere al conto corrente degli ignari utenti della banca \"MyBank\". Per prima cosa è necessario verificare se ogni indirizzo email è composto in modo corretto.\n",
    "\n",
    "Gli hackers sanno che ogni indirizzo email di un utente dovrebbe essere così composto:\n",
    "\n",
    "`[solo lettere].[solo lettere]@mybank.com`\n",
    "\n",
    "Per esempio questo è un indirizzo email valido: `nome.cognome@mybank.com`.\n",
    "\n",
    "Scrivi del codice che stampa `True` se la stringa è un indirizzo email valido, `False` altrimenti.\n",
    "\n",
    "Prova le varie combinazioni scommentando la variabile `email`\n",
    "\n",
    "Il codice deve essere generico, valido per tutte le stringhe."
   ]
  },
  {
   "cell_type": "code",
   "execution_count": 11,
   "id": "1621ea16",
   "metadata": {},
   "outputs": [
    {
     "name": "stdout",
     "output_type": "stream",
     "text": [
      "Il nome è nome\n",
      "Il cognome è cognome\n",
      "Il dominio della mail è mybank.com\n",
      "True\n"
     ]
    }
   ],
   "source": [
    "email = 'nome.cognome@mybank.com' #True\n",
    "#email = 'mio.nome@aol.com' #False\n",
    "#email = '1@mybank.com' #False\n",
    "#email = 'maybank.com' #False\n",
    "#email = 'mio.nome@mybank.it' #False\n",
    "\n",
    "\n",
    "#scrivi qui di seguito la soluzione\n",
    "\n",
    "#divido l'indirizzo email in due stringhe, quella prima e quella dopo il simbolo @, e le metto in una lista\n",
    "email_split = email.split('@')\n",
    "\n",
    "#la stringa prima del simbolo @ deve contenere un punto e la divido sul punto  \n",
    "nc=email_split[0].split('.')\n",
    "\n",
    "#il nome è il primo elemento di nc \n",
    "nome=nc[0]\n",
    "print('Il nome è', nome)\n",
    "\n",
    "#il cognome è il secondo elemento di nc (sto assumendo che nc abbia due elementi, non è ovvio, ma va bene lo stesso)\n",
    "cognome=nc[1]\n",
    "print('Il cognome è', cognome)\n",
    "\n",
    "#il dominio dell'indirizzo email è l'ultimo elemento della lista email_split\n",
    "domain=email_split[-1]\n",
    "print('Il dominio della mail è', domain)\n",
    "\n",
    "#controllo che siano verificate tutte le condizioni:\n",
    "#- il nome è solo di lettere\n",
    "#- il cognome è solo di lettere \n",
    "#\n",
    "esito = nome.isalpha() and cognome.isalpha() and domain=='mybank.com'\n",
    "\n",
    "print(esito)"
   ]
  },
  {
   "cell_type": "markdown",
   "id": "10946524",
   "metadata": {},
   "source": [
    "# Esercizio 4 - liste"
   ]
  },
  {
   "cell_type": "markdown",
   "id": "64d5f733",
   "metadata": {},
   "source": [
    "Un indirizzo MAC (Media Access Control address) è un indirizzo univoco associato dal produttore, a un chipset per comunicazioni wireless (es WiFi o Bluetooth), composto da 6 coppie di cifre esadecimali separate da due punti.\n",
    "\n",
    "Un esempio di MAC è `02:FF:A5:F2:55:12`.\n",
    "\n",
    "Scrivi un codice che a partire da un indirizzo MAC dato, come quello d'esempio:\n",
    "\n",
    "- stampa la lista che contiene tutte le coppie di numeri che formano l'indirizzo MAC,\n",
    "- stampa `True` se le coppie di cifre sono esattamente 6 e `False` altrimenti,\n",
    "- salva il primo e l'ultimo numero dell'indirizzo MAC come interi e ne stampa la somma.\n"
   ]
  },
  {
   "cell_type": "code",
   "execution_count": 12,
   "id": "16438800",
   "metadata": {},
   "outputs": [
    {
     "name": "stdout",
     "output_type": "stream",
     "text": [
      "['02', 'FF', 'A5', 'F2', '55', '12']\n",
      "True\n",
      "14\n"
     ]
    }
   ],
   "source": [
    "MAC = '02:FF:A5:F2:55:12'\n",
    "\n",
    "\n",
    "#scrivi qui di seguito la soluzione \n",
    "\n",
    "#con il comando split creo una lista che contiene le coppie di numeri dell'indirizzo MAC separatamente\n",
    "ll = MAC.split(':')\n",
    "#stampo la lista delle coppie di numeri\n",
    "print(ll)\n",
    "\n",
    "#controllo che la lunghezza della lista sia 6\n",
    "print(len(ll)==6)\n",
    "\n",
    "\n",
    "#calcolo la somma del primo e dell'ultimo elemento della lista che contiene i numeri dell'indirizzo MAC, \n",
    "#dopo averli trasformati in interi\n",
    "somma = int(ll[0])+int(ll[-1])\n",
    "\n",
    "#stampo la somma\n",
    "print(somma)"
   ]
  },
  {
   "cell_type": "markdown",
   "id": "00c23889",
   "metadata": {},
   "source": [
    "# Esercizio 5 - dizionari"
   ]
  },
  {
   "cell_type": "markdown",
   "id": "f6678227",
   "metadata": {},
   "source": [
    "Dato il dizionario\n",
    "\n",
    "```python\n",
    "mappa = {\n",
    "    \"zero\": 1,\n",
    "    \"uno\": 2,\n",
    "    \"due\": 4,\n",
    "    \"tre\": 8,\n",
    "    \"quattro\": 16,\n",
    "}\n",
    "```\n",
    "\n",
    "- scrivere del codice che produce la stringa `concat_chiavi` che è uguale a: `zero_uno_due_tre_quattro`.\n",
    "- scrivere del codice che stampa la somma di tutti a valori del dizionario"
   ]
  },
  {
   "cell_type": "code",
   "execution_count": 13,
   "id": "949c9a85",
   "metadata": {},
   "outputs": [
    {
     "name": "stdout",
     "output_type": "stream",
     "text": [
      "zero_uno_due_tre_quattro\n",
      "31\n"
     ]
    }
   ],
   "source": [
    "mappa = {\n",
    "    \"zero\": 1,\n",
    "    \"uno\": 2,\n",
    "    \"due\": 4,\n",
    "    \"tre\": 8,\n",
    "    \"quattro\": 16,\n",
    "}\n",
    "\n",
    "#scrivi qui di seguito la soluzione\n",
    "\n",
    "#creo una lista con le chiavi del dizionario\n",
    "chiavi = list(mappa.keys())\n",
    "\n",
    "#creo una stringa concatenando gli elementi della lista chiavi con il simbolo '_'\n",
    "concat_chiavi = '_'.join(chiavi)\n",
    "print(concat_chiavi)\n",
    "\n",
    "#salvo la lista dei valori del dizionario\n",
    "valori = list(mappa.values())\n",
    "\n",
    "#stampo la somma di tutti gli elementi della lista valori\n",
    "print(sum(valori))\n",
    "\n"
   ]
  },
  {
   "cell_type": "code",
   "execution_count": null,
   "id": "a673ac91",
   "metadata": {},
   "outputs": [],
   "source": []
  }
 ],
 "metadata": {
  "kernelspec": {
   "display_name": "Python 3 (ipykernel)",
   "language": "python",
   "name": "python3"
  },
  "language_info": {
   "codemirror_mode": {
    "name": "ipython",
    "version": 3
   },
   "file_extension": ".py",
   "mimetype": "text/x-python",
   "name": "python",
   "nbconvert_exporter": "python",
   "pygments_lexer": "ipython3",
   "version": "3.11.3"
  }
 },
 "nbformat": 4,
 "nbformat_minor": 5
}
