{
 "cells": [
  {
   "cell_type": "markdown",
   "id": "2e1176ff",
   "metadata": {},
   "source": [
    "---\n",
    "\n",
    "# Introduzione alla programmazione Python per le scienze sociali\n",
    "\n",
    "\n",
    "\n",
    "# Prova d'esame\n",
    "\n",
    "Data: 7 luglio 2023\n",
    "\n",
    "Autore: Michele Tizzoni\n",
    "\n",
    "---"
   ]
  },
  {
   "cell_type": "markdown",
   "id": "27e13ff4",
   "metadata": {},
   "source": [
    "# Istruzioni"
   ]
  },
  {
   "cell_type": "markdown",
   "id": "1d689dc2",
   "metadata": {},
   "source": [
    "La prova consiste in 5 esercizi elencati qui di seguito. \n",
    "\n",
    "Ad ogni esercizio è assegnato un punteggio di 2 (due) punti. Due punti vengono assegnati per una soluzione completa e corretta. Un punto può essere assegnato se la soluzione è impostata correttamente o se l'esercizio è risolto parzialmente.\n",
    "\n",
    "E' consigliato aggiungere commenti alle soluzioni proposte, in modo da spiegare che cosa dovrebbe fare il codice che scrivete.\n",
    "\n",
    "La prova si considera superata con un punteggio finale di 6/10. \n",
    "\n",
    "A prova conclusa, salvate il file con le vostre soluzione con il nome \"Prova d'esame [Nome] [Cognome].ipynb\"."
   ]
  },
  {
   "cell_type": "markdown",
   "id": "4cba5817",
   "metadata": {},
   "source": [
    "# Esercizio 1 - Basi\n",
    "\n",
    "Dato il valore del raggio `r`, e l'altezza `h`, calcolare le tre quantità seguenti e salvarle in tre diverse variabili:\n",
    "\n",
    "- L’area di un cerchio di raggio `r`: a = $\\pi \\times r^2$.\n",
    "- Il volume di un cilindro avente come base il cerchio di raggio `r` e altezza `h`: v1 = $h \\times \\pi r^2$.\n",
    "\n",
    "\n",
    "Una volta calcolate le variabili `a`, e `v1` stampare con il comando `print()` la seguente espressione:\n",
    "\n",
    "```\n",
    "L'area di un cerchio di raggio `r` è uguale a `a`.\n",
    "\n",
    "Il volume di un cilindro con base il cerchio di raggio `r` e altezza `h` è uguale a `v1`.\n",
    "```\n",
    "\n"
   ]
  },
  {
   "cell_type": "code",
   "execution_count": null,
   "id": "54f35a2c",
   "metadata": {},
   "outputs": [],
   "source": [
    "import math\n",
    "\n",
    "r=2.5\n",
    "\n",
    "#scrivi qui di seguito la soluzione \n",
    "\n"
   ]
  },
  {
   "cell_type": "markdown",
   "id": "d932404d",
   "metadata": {},
   "source": [
    "# Esercizio 2 - Basi\n",
    "\n"
   ]
  },
  {
   "cell_type": "markdown",
   "id": "419e1343-f3a4-4fdf-b1af-4b7ba91157fc",
   "metadata": {},
   "source": [
    "Dato il valore del raggio `r` scrivere un'espressione che stampa `True` se e solo se sono verificate due condizioni contemporaneamente:\n",
    "\n",
    "1. un cerchio di area `a_cerchio` ha una superficie **minore** del cerchio di raggio `r`.\n",
    "2. una cubo di volume `v_cubo` ha un volume **maggiore** del cilindro di raggio `r` e altezza `h`\n"
   ]
  },
  {
   "cell_type": "code",
   "execution_count": 1,
   "id": "44cb21b9-6c67-4f82-b3c5-214811cbddb5",
   "metadata": {
    "tags": []
   },
   "outputs": [],
   "source": [
    "r = 2.5\n",
    "a_cerchio = 10\n",
    "v_sfera = 5\n",
    "\n",
    "#scrivi qui di seguito la soluzione \n",
    "\n"
   ]
  },
  {
   "cell_type": "markdown",
   "id": "f23a4a55",
   "metadata": {},
   "source": [
    "# Esercizio 3 - stringhe"
   ]
  },
  {
   "cell_type": "markdown",
   "id": "3214dfcd-6e89-4a18-b589-238c0e567fe1",
   "metadata": {},
   "source": [
    "Data la stringa con il famoso scioglilingua: \n",
    "\n",
    "```\n",
    "Trentatré trentini entrarono trotterellando in Trento tutti e trentatré trotterellando\n",
    "```\n",
    "\n",
    "- contare quante volte compaiono nella stringa le sequenza di lettere: 'tre', 'tré' o 'Tre'\n",
    "- sostituire nella stringa le parole 'Trentatré' e 'trentatré' con '33' e salvare il risultato in una nuova stringa\n"
   ]
  },
  {
   "cell_type": "code",
   "execution_count": 4,
   "id": "3ed12675-c999-460e-a61b-d5d01f913fc0",
   "metadata": {
    "tags": []
   },
   "outputs": [
    {
     "data": {
      "text/plain": [
       "2"
      ]
     },
     "execution_count": 4,
     "metadata": {},
     "output_type": "execute_result"
    }
   ],
   "source": [
    "stringa = \"Trentatré trentini entrarono trotterellando in Trento tutti e trentatré trotterellando\"\n",
    "\n",
    "#scrivi qui di seguito la soluzione \n",
    "\n"
   ]
  },
  {
   "cell_type": "markdown",
   "id": "10946524",
   "metadata": {},
   "source": [
    "# Esercizio 4 - liste"
   ]
  },
  {
   "cell_type": "markdown",
   "id": "64d5f733",
   "metadata": {},
   "source": [
    "Data la stringa con il famoso scioglilingua: \n",
    "\n",
    "```\n",
    "Trentatré trentini entrarono trotterellando in Trento tutti e trentatré trotterellando\n",
    "```\n",
    "\n",
    "- stampare la lista che contiene tutte le parole dello scioglilingua\n",
    "- scrivere del codice che restituisce `True` se e solo se la prima parola della lista è \"Trentatré\" e l'ultima parola della lista è \"trotterellando\""
   ]
  },
  {
   "cell_type": "code",
   "execution_count": 15,
   "id": "16438800",
   "metadata": {},
   "outputs": [],
   "source": [
    "stringa = \"Trentatré trentini entrarono trotterellando in Trento tutti e trentatré trotterellando\"\n",
    "\n",
    "\n",
    "#scrivi qui di seguito la soluzione \n"
   ]
  },
  {
   "cell_type": "markdown",
   "id": "00c23889",
   "metadata": {},
   "source": [
    "# Esercizio 5 - dizionari"
   ]
  },
  {
   "cell_type": "markdown",
   "id": "f6678227",
   "metadata": {},
   "source": [
    "Dato il dizionario\n",
    "\n",
    "```python\n",
    "rubrica = {\n",
    "    'Anna': '+39 032135',\n",
    "    'Carlo': '+39 999111',\n",
    "    'Sofia': '+39 222333',\n",
    "    'Lucia': '+39 444555',\n",
    "    'Michele': '+39 909091',\n",
    "}\n",
    "```\n",
    "\n",
    "- modificare il dizionario e aggiungere una nuova chiave 'Marco' con numero di telefono '+42 657332'\n",
    "- scrivere del codice che restituisce True se e solo se la rubrica contiene i numeri di **meno** di 10 persone"
   ]
  },
  {
   "cell_type": "code",
   "execution_count": 2,
   "id": "949c9a85",
   "metadata": {},
   "outputs": [],
   "source": [
    "rubrica = {\n",
    "    'Anna': '+39 032135',\n",
    "    'Carlo': '+39 999111',\n",
    "    'Sofia': '+39 222333',\n",
    "    'Lucia': '+39 444555',\n",
    "    'Michele': '+39 909091',\n",
    "}\n",
    "\n",
    "#scrivi qui di seguito la soluzione\n",
    "\n"
   ]
  },
  {
   "cell_type": "code",
   "execution_count": null,
   "id": "a673ac91",
   "metadata": {},
   "outputs": [],
   "source": []
  }
 ],
 "metadata": {
  "kernelspec": {
   "display_name": "Python 3 (ipykernel)",
   "language": "python",
   "name": "python3"
  },
  "language_info": {
   "codemirror_mode": {
    "name": "ipython",
    "version": 3
   },
   "file_extension": ".py",
   "mimetype": "text/x-python",
   "name": "python",
   "nbconvert_exporter": "python",
   "pygments_lexer": "ipython3",
   "version": "3.11.3"
  }
 },
 "nbformat": 4,
 "nbformat_minor": 5
}
