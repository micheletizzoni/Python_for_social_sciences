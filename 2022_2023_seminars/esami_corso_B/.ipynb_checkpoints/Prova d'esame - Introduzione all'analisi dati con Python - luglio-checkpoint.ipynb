{
 "cells": [
  {
   "cell_type": "markdown",
   "id": "2e1176ff",
   "metadata": {},
   "source": [
    "---\n",
    "\n",
    "# Introduzione all'analisi dati con Python\n",
    "\n",
    "\n",
    "\n",
    "# Prova d'esame\n",
    "\n",
    "Data: 7 luglio 2023\n",
    "\n",
    "Autore: Michele Tizzoni\n",
    "\n",
    "---"
   ]
  },
  {
   "cell_type": "markdown",
   "id": "27e13ff4",
   "metadata": {},
   "source": [
    "# Istruzioni"
   ]
  },
  {
   "cell_type": "markdown",
   "id": "1d689dc2",
   "metadata": {},
   "source": [
    "La prova consiste in 5 esercizi elencati qui di seguito. \n",
    "\n",
    "Ad ogni esercizio è assegnato un punteggio di 2 (due) punti. Due punti vengono assegnati per una soluzione completa e corretta. Un punto può essere assegnato se la soluzione è impostata correttamente o se l'esercizio è risolto parzialmente.\n",
    "\n",
    "E' consigliato aggiungere commenti alle soluzioni proposte, in modo da spiegare che cosa dovrebbe fare il codice che scrivete.\n",
    "\n",
    "La prova si considera superata con un punteggio finale di 6/10. \n",
    "\n",
    "A prova conclusa, salvate il file con le vostre soluzione con il nome \"Prova d'esame [Nome] [Cognome].ipynb\"."
   ]
  },
  {
   "cell_type": "markdown",
   "id": "4cba5817",
   "metadata": {},
   "source": [
    "# Esercizio 1 - Lettura di file\n",
    "\n",
    "Insieme al notebook trovate il file `cty_covariates.csv`. Questo file contiene i dati che vogliamo analizzare durante la prova.\n",
    "Si tratta di dati demografici e socio-economici degli Stati Uniti, riportati per ogni contea americana.\n",
    "Il dataset proviene dal sito [Opportunity Atlas](https://www.opportunityatlas.org/).\n",
    "\n",
    "Richieste:\n",
    "1. Usando la libreria `pandas` importare il file dentro un nuovo dataframe.\n",
    "2. Mostrare a schermo le prime 5 righe del dataframe.\n",
    "3. Stampare l'elenco delle variabili che rappresentano le colonne del dataframe.\n"
   ]
  },
  {
   "cell_type": "code",
   "execution_count": null,
   "id": "a534da73-d1b7-4a18-84f5-4fb59fe39190",
   "metadata": {},
   "outputs": [],
   "source": [
    "#scrivi qui la soluzione\n",
    "import pandas as pd\n"
   ]
  },
  {
   "cell_type": "markdown",
   "id": "d932404d",
   "metadata": {},
   "source": [
    "# Esercizio 2 - Selezione e analisi\n",
    "\n",
    "Dal dataframe precedente, identificare (stampando a schermo):\n",
    "\n",
    "1. La contea degli USA con il valore massimo di `poor_share2010` che rappresenta la percentuale di individui al di sotto della soglia di povertà federale nel 2010.\n",
    "\n",
    "2. Il valore medio di `poor_share2010` in tutte le contee degli USA.\n",
    "\n",
    "\n",
    "\n",
    "\n"
   ]
  },
  {
   "cell_type": "code",
   "execution_count": null,
   "id": "7f397754-8959-40bd-8864-b28a8bc72f9b",
   "metadata": {},
   "outputs": [],
   "source": [
    "#scrivi qui la soluzione\n",
    "\n"
   ]
  },
  {
   "cell_type": "markdown",
   "id": "f23a4a55",
   "metadata": {},
   "source": [
    "# Esercizio 3 - Visualizzazione"
   ]
  },
  {
   "cell_type": "markdown",
   "id": "0b695f5b",
   "metadata": {},
   "source": [
    "Usando la libreria `matplotlib` creare una figura che mostri la relazione esistente tra due variabili del dataset importato.\n",
    "In particolare:\n",
    "\n",
    "1. Disegnare un grafico che mostri il la percentuale di individui al di sotto della soglia di povertà nel 2010 (`poor_share2010`) sull'asse y e la percentuale di popolazione afro-americana nel 2010 (`share_black2010`) sull'asse x. I valori devono essere visualizzati come punti blu.\n",
    "\n",
    "2. Aggiungere le seguenti etichette sugli assi: `poor share (210)` per l'asse y, `share of black population (2010)` per l'asse x.\n"
   ]
  },
  {
   "cell_type": "code",
   "execution_count": null,
   "id": "b2f1360a",
   "metadata": {},
   "outputs": [],
   "source": [
    "import matplotlib.pyplot as plt\n",
    "%matplotlib inline\n",
    "\n",
    "#scrivi qui la soluzione"
   ]
  },
  {
   "cell_type": "markdown",
   "id": "10946524",
   "metadata": {},
   "source": [
    "# Esercizio 4 - Controllo di flusso"
   ]
  },
  {
   "cell_type": "markdown",
   "id": "64d5f733",
   "metadata": {},
   "source": [
    "Dato il seguente dizionario:\n",
    "\n",
    "```python\n",
    "states={'Arizona': 4, 'Kentucky': 21, 'Oregon': 41}\n",
    "```\n",
    "che assegna ad ogni stato americano un *codice univoco*, come quello presente nel dataset, \n",
    "usare un ciclo `for`, per ogni stato presente come chiave del dizionario e:\n",
    "1. selezionare nel dataset solo le contee di quello stato (identificato dalla variable numerica `state`);\n",
    "2. calcolare il valore medio di `poor_share2010` in tutte le contee di quello stato;\n",
    "2. stampare il nome dello stato e il valore medio di `poor_share2010`."
   ]
  },
  {
   "cell_type": "code",
   "execution_count": null,
   "id": "1a4a8fae",
   "metadata": {},
   "outputs": [],
   "source": [
    "states={'Arizona': 4, 'Kentucky': 21, 'Oregon': 41}\n",
    "\n",
    "#scrivi qui la soluzione"
   ]
  },
  {
   "cell_type": "markdown",
   "id": "00c23889",
   "metadata": {},
   "source": [
    "# Esercizio 5 - Funzioni"
   ]
  },
  {
   "cell_type": "markdown",
   "id": "f6678227",
   "metadata": {},
   "source": [
    "Scrivere una funzione chiamata `analyze_df` che prende come **input** 2 variabili:\n",
    "\n",
    "1. il dataframe con il dataset che stiamo analizzando;\n",
    "2. il nome di una colonna del dataframe (una generica stringa); \n",
    "\n",
    "e restituisce come **output** la seguente scritta:\n",
    "1. \"Il valore medio di VARIABLE è AVG\"\n",
    "\n",
    "dove `VARIABLE` è il nome della variabile e `AVG` è la media di quella variabile calcolata sul dataframe.\n",
    "\n",
    "La funzione deve anche controllare che il nome della variabile da analizzare sia presente nelle colonne del dataframe con un `if`. Se la variabile non è presente, deve restituire un messaggio di errore di questo tipo:\n",
    "\n",
    "```python\n",
    "'Attenzione! La variabile VARIABLE non è presente nel dataframe'\n",
    "```"
   ]
  },
  {
   "cell_type": "code",
   "execution_count": null,
   "id": "3d4cf814",
   "metadata": {},
   "outputs": [],
   "source": [
    "#scrivi qui la soluzione"
   ]
  },
  {
   "cell_type": "code",
   "execution_count": null,
   "id": "6e87da3e-5b56-4496-8a5e-794a6dc01cbd",
   "metadata": {},
   "outputs": [],
   "source": []
  }
 ],
 "metadata": {
  "kernelspec": {
   "display_name": "Python 3 (ipykernel)",
   "language": "python",
   "name": "python3"
  },
  "language_info": {
   "codemirror_mode": {
    "name": "ipython",
    "version": 3
   },
   "file_extension": ".py",
   "mimetype": "text/x-python",
   "name": "python",
   "nbconvert_exporter": "python",
   "pygments_lexer": "ipython3",
   "version": "3.11.3"
  }
 },
 "nbformat": 4,
 "nbformat_minor": 5
}
