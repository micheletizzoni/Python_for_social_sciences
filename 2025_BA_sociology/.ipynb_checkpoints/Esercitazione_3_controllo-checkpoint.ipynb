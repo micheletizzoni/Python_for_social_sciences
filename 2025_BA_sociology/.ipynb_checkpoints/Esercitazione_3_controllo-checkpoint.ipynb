{
 "cells": [
  {
   "cell_type": "markdown",
   "id": "68af1f98",
   "metadata": {},
   "source": [
    "## Esercitazione 3\n",
    "Maggio 2025"
   ]
  },
  {
   "cell_type": "code",
   "execution_count": null,
   "id": "db98c9f9",
   "metadata": {},
   "outputs": [],
   "source": [
    "import math"
   ]
  },
  {
   "cell_type": "markdown",
   "id": "71dfb370",
   "metadata": {},
   "source": [
    "# Esercizio 1 \n",
    "\n",
    "Vi vene dato un dizionario che associa ad ogni studente una media dei suoi voti:\n",
    "\n",
    "```python\n",
    "voti = {\n",
    "    'Anna': 28.2,\n",
    "    'Carlo': 29.5,\n",
    "    'Sofia': 27.4,\n",
    "    'Lucia': 26.2,\n",
    "    'Michele': 29.1,\n",
    "}\n",
    "```\n",
    "\n",
    "1. modifica il dizionario e aggiungi una nuova chiave 'Marco' con media voti `27.5`. Stampa il dizionario.\n",
    "\n",
    "\n",
    "2. aggiorna la media dei voti di Lucia con un nuovo valore: `28.1`. Stampa il dizionario.\n",
    "\n",
    "\n",
    "3. calola la media dei voti di tutti gli studenti presenti nel dizionario, `media_voti`, e stampala. \n"
   ]
  },
  {
   "cell_type": "code",
   "execution_count": 2,
   "id": "1801aa31",
   "metadata": {},
   "outputs": [
    {
     "name": "stdout",
     "output_type": "stream",
     "text": [
      "{'Anna': 28.2, 'Carlo': 29.5, 'Sofia': 27.4, 'Lucia': 26.2, 'Michele': 29.1}\n",
      "\n",
      "{'Anna': 28.2, 'Carlo': 29.5, 'Sofia': 27.4, 'Lucia': 26.2, 'Michele': 29.1, 'Marco': 27.5}\n",
      "\n",
      "{'Anna': 28.2, 'Carlo': 29.5, 'Sofia': 27.4, 'Lucia': 28.1, 'Michele': 29.1, 'Marco': 27.5}\n",
      "\n",
      "La media dei voti complessiva è 28.299999999999997\n"
     ]
    }
   ],
   "source": [
    "voti = {\n",
    "    'Anna': 28.2,\n",
    "    'Carlo': 29.5,\n",
    "    'Sofia': 27.4,\n",
    "    'Lucia': 26.2,\n",
    "    'Michele': 29.1,\n",
    "}\n",
    "#stampo il dizionario uno prima volta\n",
    "print(voti)\n",
    "print()\n",
    "\n",
    "#aggiorno il dizionario con una nuova chiave\n",
    "voti['Marco']=27.5\n",
    "print(voti)\n",
    "print()\n",
    "\n",
    "#aggiorno il valore di Lucia\n",
    "voti['Lucia']=28.1\n",
    "print(voti)\n",
    "print()\n",
    "\n",
    "#calcolo la media di tutti i voti\n",
    "media_voti = sum(voti.values())/len(voti)\n",
    "print(\"La media dei voti complessiva è\", media_voti)"
   ]
  },
  {
   "cell_type": "code",
   "execution_count": 5,
   "id": "6c3aac51",
   "metadata": {},
   "outputs": [
    {
     "data": {
      "text/plain": [
       "dict_values([28.2, 29.5, 27.4, 28.1, 29.1, 27.5])"
      ]
     },
     "execution_count": 5,
     "metadata": {},
     "output_type": "execute_result"
    }
   ],
   "source": [
    "voti.values()"
   ]
  },
  {
   "cell_type": "markdown",
   "id": "fd11790f",
   "metadata": {},
   "source": [
    "# Esercizio 2\n",
    "\n",
    "Vi viene dato un dizionario che contiene i risultati dello spoglio di una sezione elettorale, alle ultime elezioni comunali.\n",
    "Il dizionario contiene il nome di ogni candidato e i voti ottenuti:\n",
    "\n",
    "```python\n",
    "elezioni = {\n",
    "    'Laura Morante': 232,\n",
    "    'Carlo Mazzacurati': 198,\n",
    "    'Paolo Giordano': 202,\n",
    "    'Paolo Cognetti': 157,\n",
    "    'Elena Ferrante': 301,\n",
    "}\n",
    "```\n",
    "\n",
    "1. Modifica il dizionario e aggiungi una nuova chiave `Bianche/Nulle` con un valore di `48`. Stampa il dizionario.\n",
    "\n",
    "\n",
    "2. Trova il valore massimo dei voti ottenuti da un singolo candidato e stampalo con un `print`.\n",
    "\n",
    "\n",
    "3. Calcola la percentuale dei voti ottenuti da Elena Ferrante, sul totale, e stampa con un `print` il nome della candidata seguito dalla percentuale. \n",
    "\n",
    "\n",
    "4. Scrivi un programma in Python che controlla quanti candidati ci sono che hanno nome uguale a 'Paolo' e stampa il risultato finale con un `print`.\n",
    "\n",
    "\n",
    "5. Scrivi un programma in Python che stampa consecutivamente i nomi di ogni candidato e la percentuali di voti che ha ottenuto sul totale.\n",
    "\n"
   ]
  },
  {
   "cell_type": "code",
   "execution_count": 14,
   "id": "4753da4e",
   "metadata": {},
   "outputs": [
    {
     "name": "stdout",
     "output_type": "stream",
     "text": [
      "{'Laura Morante': 232, 'Carlo Mazzacurati': 198, 'Paolo Giordano': 202, 'Paolo Cognetti': 157, 'Elena Ferrante': 301, 'Bianche/Nulle': 48}\n",
      "\n",
      "Il candidato/a più votato/a ha ottenuto 301 voti.\n",
      "\n",
      "Elena Ferrante 26.45 %\n",
      "\n",
      "Il numero di candidati che si chiamano Paolo è 2\n",
      "\n",
      "Laura Morante 20.39 %\n",
      "Carlo Mazzacurati 17.4 %\n",
      "Paolo Giordano 17.75 %\n",
      "Paolo Cognetti 13.8 %\n",
      "Elena Ferrante 26.45 %\n",
      "Bianche/Nulle 4.22 %\n"
     ]
    }
   ],
   "source": [
    "elezioni = {\n",
    "    'Laura Morante': 232,\n",
    "    'Carlo Mazzacurati': 198,\n",
    "    'Paolo Giordano': 202,\n",
    "    'Paolo Cognetti': 157,\n",
    "    'Elena Ferrante': 301,\n",
    "}\n",
    "\n",
    "#scrivi qui di seguito la soluzione \n",
    "elezioni['Bianche/Nulle'] = 48\n",
    "print(elezioni)\n",
    "print()\n",
    "\n",
    "voto_max = max(elezioni.values())\n",
    "print(\"Il candidato/a più votato/a ha ottenuto\", voto_max, \"voti.\")\n",
    "print()\n",
    "\n",
    "voti_totali = sum(elezioni.values())\n",
    "perc_ferrante = elezioni['Elena Ferrante']*100/voti_totali\n",
    "print('Elena Ferrante', round(perc_ferrante, 2),'%')\n",
    "print()\n",
    "\n",
    "count_paolo=0\n",
    "for candidate in elezioni:\n",
    "    \n",
    "    nome = candidate.split()[0]\n",
    "    \n",
    "    if nome=='Paolo':\n",
    "        count_paolo+=1\n",
    "\n",
    "print('Il numero di candidati che si chiamano Paolo è', count_paolo)\n",
    "print()\n",
    "\n",
    "for candidate in elezioni:\n",
    "    \n",
    "    perc_voti = elezioni[candidate]*100/voti_totali\n",
    "    print(candidate, round(perc_voti, 2), \"%\")\n",
    "\n",
    "\n"
   ]
  },
  {
   "cell_type": "markdown",
   "id": "d0660882",
   "metadata": {},
   "source": [
    "# Esercizio 3\n",
    "\n",
    "Alice sta pianificando un viaggio verso un bellissimo lago in montagna. \n",
    "\n",
    "Vuole andare a nuotare, ma solo se la temperatura dell’acqua è superiore a 18 gradi Celsius. \n",
    "\n",
    "Se è più fredda, farà una escursione invece. \n",
    "Ma se è fredda e sta per fare un’escursione, controllerà se il suo amico Zack viene. \n",
    "Se Zack viene, sceglierà una escursione più lunga, altrimenti farà l’escursione panoramica. \n",
    "\n",
    "Se il lago è abbastanza caldo, inviterà la sua amica Zoe. \n",
    "Se Zoe non viene, porterà la sua lettura leggera dell’estate, il cui titolo è salvato nella variabile `libro`.\n",
    "\n",
    "Scrivi un programma Python che in base alle condizioni stampa quello che Alice deciderà di fare.\n"
   ]
  },
  {
   "cell_type": "code",
   "execution_count": 15,
   "id": "935bef08",
   "metadata": {},
   "outputs": [
    {
     "name": "stdout",
     "output_type": "stream",
     "text": [
      "Alice andrà a nuotare da sola, e porterà il libro Learn coding with Python da leggere.\n"
     ]
    }
   ],
   "source": [
    "#scrivi qui\n",
    "libro = 'Learn coding with Python'\n",
    "\n",
    "zoe_viene = False\n",
    "zack_viene = True\n",
    "temperatura_acqua = 19\n",
    "\n",
    "\n",
    "if temperatura_acqua > 18:\n",
    "    \n",
    "    #Alice va a nuotare\n",
    "    if zoe_viene:\n",
    "        print(\"Alice andrà a nuotare con la sua amica Zoe\")\n",
    "    else:\n",
    "        print(\"Alice andrà a nuotare da sola, e porterà il libro\", libro, \"da leggere.\")\n",
    "\n",
    "else:\n",
    "    \n",
    "    #Alice fa un'escursione\n",
    "    if zack_viene:\n",
    "        print(\"Alice farà un'escursione lunga con il suo amico Zack\")\n",
    "    else:\n",
    "        print(\"Alice farà un'escursione panoramica da sola.\")\n",
    "\n"
   ]
  },
  {
   "cell_type": "markdown",
   "id": "8179b27d",
   "metadata": {},
   "source": [
    "# Esercizio 4\n",
    "\n",
    "Vi viene dato un dizionario che contiene una lista di stati del mondo, a cui sono associati la rispettiva capitale e il continente a cui appartengono, come lista.\n",
    "\n",
    "```python\n",
    "countries = {\n",
    "    'Italia': ['Roma', 'Europa'],\n",
    "    'Giappone': ['Tokyo', 'Asia'],\n",
    "    'Filippine': ['Manila', 'Asia'],\n",
    "    'India': ['Nuova Delhi', 'Asia'],\n",
    "    'Australia': ['Sydney', 'Oceania'],\n",
    "    'Kenya': ['Nairobi', 'Africa'],\n",
    "    'Svezia': ['Stoccolma', 'Europa'],\n",
    "    'Egitto': ['Cairo', 'Africa'],\n",
    "    'Canada': ['Ottawa', 'America'],\n",
    "    \n",
    "}\n",
    "```\n",
    "\n",
    "1. C'è un errore! Qualcuno ha dimenticato che la capitale dell'Australia è Canberra, non Sydney. Modifica il dizionario in modo che alla chiave Australia sia associata la capitale corretta. Stampa il dizionario.\n",
    "\n",
    "\n",
    "2. Stampa con `print` l'elenco degli stati presenti nel dizionario, in ordine alfabetico.\n",
    "\n",
    "\n",
    "3. Scrivi un codice Python che crea un **nuovo** dizionario `conteggi` che associa ad ogni continente presente in `countries`, il numero di stati che vi appartengono (per esempio, Asia: 3)."
   ]
  },
  {
   "cell_type": "code",
   "execution_count": 5,
   "id": "84f342ee",
   "metadata": {},
   "outputs": [
    {
     "name": "stdout",
     "output_type": "stream",
     "text": [
      "{'Italia': ['Roma', 'Europa'], 'Giappone': ['Tokyo', 'Asia'], 'Filippine': ['Manila', 'Asia'], 'India': ['Nuova Delhi', 'Asia'], 'Australia': ['Canberra', 'Oceania'], 'Kenya': ['Nairobi', 'Africa'], 'Svezia': ['Stoccolma', 'Europa'], 'Egitto': ['Cairo', 'Africa'], 'Canada': ['Ottawa', 'America']}\n",
      "\n",
      "Gli stati in ordine alfabetico sono: ['Australia', 'Canada', 'Egitto', 'Filippine', 'Giappone', 'India', 'Italia', 'Kenya', 'Svezia']\n",
      "\n",
      "{'Europa': 2, 'Asia': 3, 'Oceania': 1, 'Africa': 2, 'America': 1}\n"
     ]
    }
   ],
   "source": [
    "countries = {\n",
    "    'Italia': ['Roma', 'Europa'],\n",
    "    'Giappone': ['Tokyo', 'Asia'],\n",
    "    'Filippine': ['Manila', 'Asia'],\n",
    "    'India': ['Nuova Delhi', 'Asia'],\n",
    "    'Australia': ['Sydney', 'Oceania'],\n",
    "    'Kenya': ['Nairobi', 'Africa'],\n",
    "    'Svezia': ['Stoccolma', 'Europa'],\n",
    "    'Egitto': ['Cairo', 'Africa'],\n",
    "    'Canada': ['Ottawa', 'America'],\n",
    "    \n",
    "}\n",
    "\n",
    "#scrivi qui la soluzione\n",
    "#modifico i valori per Australia\n",
    "countries['Australia'] = ['Canberra','Oceania']\n",
    "print(countries)\n",
    "print()\n",
    "\n",
    "stati = list(countries.keys())\n",
    "stati.sort()\n",
    "print(\"Gli stati in ordine alfabetico sono:\" , stati)\n",
    "print()\n",
    "\n",
    "conteggi = {}\n",
    "for k in countries.values():\n",
    "    continente = k[1]\n",
    "    \n",
    "    if continente in conteggi:\n",
    "        conteggi[continente]+=1\n",
    "    else:\n",
    "        conteggi[continente]=1\n",
    "    \n",
    "print(conteggi)\n"
   ]
  },
  {
   "cell_type": "code",
   "execution_count": 6,
   "id": "1af61cc6",
   "metadata": {},
   "outputs": [],
   "source": [
    "from collections import Counter"
   ]
  },
  {
   "cell_type": "code",
   "execution_count": 7,
   "id": "1058daeb",
   "metadata": {},
   "outputs": [],
   "source": [
    "continenti=[]\n",
    "for k in countries.values():\n",
    "    continenti.append(k[1])\n",
    "\n",
    "conteggi = Counter(continenti)"
   ]
  },
  {
   "cell_type": "code",
   "execution_count": 8,
   "id": "8d71d75b",
   "metadata": {},
   "outputs": [
    {
     "name": "stdout",
     "output_type": "stream",
     "text": [
      "Counter({'Asia': 3, 'Europa': 2, 'Africa': 2, 'Oceania': 1, 'America': 1})\n"
     ]
    }
   ],
   "source": [
    "print(conteggi)"
   ]
  },
  {
   "cell_type": "code",
   "execution_count": 9,
   "id": "f8e7c664",
   "metadata": {},
   "outputs": [],
   "source": [
    "from collections import defaultdict"
   ]
  },
  {
   "cell_type": "code",
   "execution_count": 11,
   "id": "5594ba4b",
   "metadata": {},
   "outputs": [
    {
     "name": "stdout",
     "output_type": "stream",
     "text": [
      "defaultdict(<class 'int'>, {'Europa': 2, 'Asia': 3, 'Oceania': 1, 'Africa': 2, 'America': 1})\n"
     ]
    }
   ],
   "source": [
    "conteggi = defaultdict(int)\n",
    "for k in countries.values():\n",
    "    continente = k[1]\n",
    "    \n",
    "    conteggi[continente]+=1\n",
    "    \n",
    "print(conteggi)\n"
   ]
  },
  {
   "cell_type": "markdown",
   "id": "dcee8e6a",
   "metadata": {},
   "source": [
    "# Esercizio 5\n",
    "\n",
    "Data la stringa di testo:\n",
    "```python\n",
    "testo = \n",
    "\"Nel mezzo del cammin di nostra vita, mi ritrovai per una selva oscura, ché la diritta via era smarrita.\"\n",
    "```\n",
    "e una stringa con le vocali:\n",
    "```python\n",
    "vocali = \"aeiouAEIOU\"\n",
    "```\n",
    "\n",
    "1. scrivi un programma in Python che conta il numero di vocali presenti nella stringa `testo`. Stampa il numero totale di vocali.\n",
    "\n",
    "\n",
    "2. scrivi un programma in Python che stampa per 5 volte consecutive la sottostringa `Nel mezzo del cammin di nostra vita`\n",
    "\n",
    "\n",
    "3. Dato un numero intero, per esempio `n=5`, controlla se esiste almeno una parola di lunghezza `n` nella stringa `testo` e, non appena trovata, stampa la parola.\n",
    "\n"
   ]
  },
  {
   "cell_type": "code",
   "execution_count": 12,
   "id": "ed83da9e",
   "metadata": {},
   "outputs": [
    {
     "ename": "SyntaxError",
     "evalue": "invalid syntax (2899089333.py, line 1)",
     "output_type": "error",
     "traceback": [
      "\u001b[0;36m  Cell \u001b[0;32mIn[12], line 1\u001b[0;36m\u001b[0m\n\u001b[0;31m    testo =\u001b[0m\n\u001b[0m            ^\u001b[0m\n\u001b[0;31mSyntaxError\u001b[0m\u001b[0;31m:\u001b[0m invalid syntax\n"
     ]
    }
   ],
   "source": [
    "testo = \"Nel mezzo del cammin di nostra vita, mi ritrovai per una selva oscura, ché la diritta via era smarrita.\"\n",
    "\n",
    "vocali = \"aeéiouAEIOU\"\n",
    "n=5\n",
    "\n",
    "# conto il numero di vocali presenti nella stringa testo\n",
    "for lettera in testo:\n",
    "    print(lettera)\n",
    "\n",
    "\n",
    "#stampo 5 volte consecutive la sottostringa\n",
    "\n",
    "#controllo che esista almeno una parola di lunghezza n e la stampo"
   ]
  },
  {
   "cell_type": "markdown",
   "id": "e3e3080c",
   "metadata": {},
   "source": [
    "# Sfida - Il Dungeon\n",
    "\n",
    "✪✪✪ Requisiti: `while`, `if`, `liste`\n",
    "\n",
    "Un cavaliere si inoltra in una caverna alla ricerca di oggetti preziosi. Appena trova quello che sta cercando, esulta e torna indietro. \n",
    "\n",
    "Rappresentiamo la `caverna` come una lista di stringhe. L'oggetto da cercare è indicato nella variabile `cerco`. \n",
    "\n",
    "Scrivi del codice che date le voci STAMPA il percorso.\n",
    "\n",
    "- **USA** un  `while`\n",
    "- **NON USARE** `break` !!\n",
    "- **NON USARE** metodi di ricerca come `.index` o `count`\n"
   ]
  },
  {
   "cell_type": "markdown",
   "id": "0d7fdfb0",
   "metadata": {},
   "source": [
    "**Esempio 1** - Dati:\n",
    "\n",
    "```python\n",
    "cerco = 'il tesoro'\n",
    "caverna = ['un masso','una trappola','delle spade',\n",
    "           'il tesoro','una ragnatela', 'un boleto delle tombe']\n",
    "\n",
    "```\n",
    "\n",
    "stampa:\n",
    "\n",
    "```    \n",
    "Entro\n",
    "Vedo un masso\n",
    "Vedo una trappola\n",
    "Vedo delle spade\n",
    "Che fortuna! Ho trovato il tesoro\n",
    "Torno indietro!\n",
    "Vedo delle spade\n",
    "Vedo una trappola\n",
    "Vedo un masso\n",
    "Esco\n",
    "```"
   ]
  },
  {
   "cell_type": "markdown",
   "id": "b1f25ab2",
   "metadata": {},
   "source": [
    "**Esempio 2:** Una lista può anche *non* contenere l'oggetto cercato, in tal caso bisognerà  mostrare un messaggio apposito. Per es, dati:\n",
    "\n",
    "```python    \n",
    "cerco = 'il talismano del potere'\n",
    "caverna = ['una trappola','un boleto delle tombe','una ragnatela']\n",
    "```    \n",
    "\n",
    "stampa:\n",
    "\n",
    "```    \n",
    "Entro\n",
    "Vedo una trappola\n",
    "Vedo un boleto delle tombe\n",
    "Vedo una ragnatela\n",
    "Purtroppo il talismano del potere non c'è\n",
    "Torno indietro!\n",
    "Vedo una ragnatela\n",
    "Vedo un boleto delle tombe\n",
    "Vedo una trappola\n",
    "Esco\n",
    "```"
   ]
  },
  {
   "cell_type": "code",
   "execution_count": null,
   "id": "8eebd42e",
   "metadata": {},
   "outputs": [],
   "source": [
    "cerco, caverna='il tesoro', ['un masso','una trappola','delle spade','il tesoro','una ragnatela','un boleto delle tombe']\n",
    "\n",
    "#cerco,caverna = 'il talismano del potere', ['una trappola','un boleto delle tombe','una ragnatela']\n",
    "#cerco, caverna = 'la corona di rubini', []                         # funziona anche in questi casi particolari?\n",
    "#cerco, caverna = 'la corona di rubini', ['la corona di rubini']    # \n",
    "#cerco, caverna = 'la corona di rubini', ['il martello di granito'] # \n",
    "\n",
    "# scrivi qui"
   ]
  }
 ],
 "metadata": {
  "kernelspec": {
   "display_name": "Python 3 (ipykernel)",
   "language": "python",
   "name": "python3"
  },
  "language_info": {
   "codemirror_mode": {
    "name": "ipython",
    "version": 3
   },
   "file_extension": ".py",
   "mimetype": "text/x-python",
   "name": "python",
   "nbconvert_exporter": "python",
   "pygments_lexer": "ipython3",
   "version": "3.11.11"
  }
 },
 "nbformat": 4,
 "nbformat_minor": 5
}
