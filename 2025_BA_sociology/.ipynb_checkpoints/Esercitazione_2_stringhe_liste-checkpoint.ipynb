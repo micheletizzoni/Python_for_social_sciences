{
 "cells": [
  {
   "cell_type": "markdown",
   "id": "68af1f98",
   "metadata": {},
   "source": [
    "## Esercitazione 2\n",
    "Aprile 2025"
   ]
  },
  {
   "cell_type": "code",
   "execution_count": 1,
   "id": "db98c9f9",
   "metadata": {},
   "outputs": [],
   "source": [
    "import math"
   ]
  },
  {
   "cell_type": "markdown",
   "id": "71dfb370",
   "metadata": {},
   "source": [
    "# Esercizio 1 \n",
    "\n",
    "Viene data una una stringa di nomi di città italiane, a cui è stata aggiunta la relativa popolazione, separati da virgole:\n",
    "\n",
    "```python\n",
    "cities = \"verona,255298|trento,118504|napoli,913704|palermo,630427|bari,316226|firenze,362613\"\n",
    "```\n",
    "\n",
    "Data la stringa `cities`:\n",
    "\n",
    "1. Scrivere un programma Python che conta quante città sono presenti nella stringa e restituisce `True` se sono più di 5. Stampare il risultato con un `print`.\n",
    "\n",
    "\n",
    "2. Scrivere un programma Python che produce una stringa con i nomi di città, separata da uno spazio. Il nome di ogni città deve avere l'iniziale maiuscola. Stampare il risultato con un `print`. \n",
    "\n",
    "\n",
    "3. Calcolare la somma della popolazione di tutte le città e stampare il risultato con un  `print`.\n"
   ]
  },
  {
   "cell_type": "code",
   "execution_count": null,
   "id": "1801aa31",
   "metadata": {},
   "outputs": [],
   "source": [
    "cities = \"verona,255298|trento,118504|napoli,913704|palermo,630427|bari,316226|firenze,362613\"\n"
   ]
  },
  {
   "cell_type": "markdown",
   "id": "fd11790f",
   "metadata": {},
   "source": [
    "# Esercizio 2\n",
    "\n",
    "I voti di una sessione di laurea sono stati riportati in un'unica stringa che contiene i nomi dei candidati e il voto in cifre, separati da punto e virgola: \n",
    "\n",
    "```python\n",
    "voti = \"Anna 110;Beatrice 105;Carlo 110;Davide 107;Elena 109\"\n",
    "```\n",
    "\n",
    "Data la stringa `voti`:\n",
    "\n",
    "1. Scrivere un programma Python che conta quanti voti sono presenti nella stringa e restituisce `True` se sono più di 4. Stampare il risultato con un `print`.\n",
    "\n",
    "2. Scrivere un programma Python che produce una stringa con i soli voti di laurea, ma senza nomi, seaparati da una virgola. Stampare il risultato con un `print`. \n",
    "\n",
    "2. Calcolare la media dei voti di laurea e stampare il risultato con un  `print`.\n"
   ]
  },
  {
   "cell_type": "code",
   "execution_count": null,
   "id": "4753da4e",
   "metadata": {},
   "outputs": [],
   "source": [
    "voti = \"Anna 110;Beatrice 105;Carlo 110;Davide 107;Elena 109\"\n",
    "\n",
    "#scrivi qui di seguito la soluzione "
   ]
  },
  {
   "cell_type": "markdown",
   "id": "d0660882",
   "metadata": {},
   "source": [
    "# Esercizio 3\n",
    "\n",
    "Consideriamo tre stringhe diverse che contengono i versi delle prime 3 terzine dell'Inferno di Dante Alighieri.\n",
    "\n",
    "Purtroppo le stringhe non sono formattate correttamente. Tutti i caratteri di 'a capo' sono stati sostituiti con il carattere `|`.\n",
    "\n",
    "Scrivi un programma in Python che:\n",
    "\n",
    "1. Sostituisce il simbolo `|` in ogni stringa con i simboli di a capo (new line) e salva ogni volta il risultato in una nuova stringa.\n",
    "\n",
    "\n",
    "2. Unisce le tre stringhe modificate in un'unica stringa completa che rappresenta il testo formattato correttamente. Stampandola, dovrà apparire così:\n",
    "\n",
    "```\n",
    "Nel mezzo del cammin di nostra vita\n",
    "mi ritrovai per una selva oscura,\n",
    "ché la diritta via era smarrita.\n",
    "\n",
    "Ahi quanto a dir qual era è cosa dura\n",
    "esta selva selvaggia e aspra e forte\n",
    "che nel pensier rinova la paura!\n",
    "\n",
    "Tant’è amara che poco è più morte;\n",
    "ma per trattar del ben ch’i’ vi trovai,\n",
    "dirò de l’altre cose ch’i’ v’ ho scorte.\n",
    "\n",
    "```\n",
    "\n",
    "3. Stampa la stringa completa con tutti i caratteri in MAIUSCOLO. \n",
    "\n",
    "\n",
    "4. Stampa il numero totale di caratteri (la lunghezza) della stringa completa. \n",
    "\n"
   ]
  },
  {
   "cell_type": "code",
   "execution_count": null,
   "id": "935bef08",
   "metadata": {},
   "outputs": [],
   "source": [
    "terzina1 = \"Nel mezzo del cammin di nostra vita|mi ritrovai per una selva oscura,|ché la diritta via era smarrita.|\"\n",
    "\n",
    "terzina2 = \"Ahi quanto a dir qual era è cosa dura|esta selva selvaggia e aspra e forte|che nel pensier rinova la paura!|\"\n",
    "\n",
    "terzina3 = \"Tant’è amara che poco è più morte;|ma per trattar del ben ch’i’ vi trovai,|dirò de l’altre cose ch’i’ v’ ho scorte.|\"\n",
    "\n"
   ]
  },
  {
   "cell_type": "markdown",
   "id": "8179b27d",
   "metadata": {},
   "source": [
    "# Esercizio 4\n",
    "\n",
    "Ti viene data una lista di interi contenente le età dei partecipanti ad un sondaggio:\n",
    "\n",
    "```python\n",
    "ages = [23, 45, 18, 34, 55, 40, 30, 28, 60, 18, 19, 32, 41, 25]\n",
    "```\n",
    "1. Aggiungi i seguenti valori di età alla lista: 44, 65. Stampa la lista.\n",
    "\n",
    "\n",
    "2. Metti in ordine la lista, con i valori ordinati dal più piccolo al più grande. Stampa la lista ordinata.\n",
    "\n",
    "\n",
    "3. Salva i primi 10 valori della lista ordinata in una nuova lista, `young_ages`, e stampala.\n",
    "\n",
    "\n",
    "4. Calcola l'età media dei partecipanti, salvala nella variabile `mean_age` e stampala."
   ]
  },
  {
   "cell_type": "code",
   "execution_count": null,
   "id": "84f342ee",
   "metadata": {},
   "outputs": [],
   "source": [
    "ages = [23, 45, 18, 34, 55, 40, 30, 28, 60, 18, 19, 32, 41, 25]"
   ]
  },
  {
   "cell_type": "markdown",
   "id": "dcee8e6a",
   "metadata": {},
   "source": [
    "# Esercizio 5\n",
    "\n",
    "Vi vengono date due liste contenenti le temperature registrate in due settimane, una di gennaio e una di febbraio 2024, a Trento:\n",
    "\n",
    "```python\n",
    "temp_gennaio = [3, 6, -1, -2, 0, 3, 4]\n",
    "temp_febbraio = [2, 5, 3, 6, 7, 8, 4]\n",
    "```\n",
    "\n",
    "1. Scrivi un'espressione booleana che restituisce `True` solo le la temperatura massima di gennaio è **minore** della temperatura minima di febbraio. \n",
    "\n",
    "\n",
    "2. Crea una singola lista `temp` che contiene tutte le temperature, di gennaio e febbraio. Stampa la lista con un `print`.\n",
    "\n",
    "\n",
    "3. Calcola la temperatura media delle due settimane considerate. Stampala con un `print`. \n"
   ]
  },
  {
   "cell_type": "code",
   "execution_count": null,
   "id": "2bd3d5e8",
   "metadata": {},
   "outputs": [],
   "source": [
    "temp_gennaio = [3, 6, -1, -2, 0, 3, 4]\n",
    "temp_febbraio = [2, 5, 3, 6, 7, 8, 4]"
   ]
  },
  {
   "cell_type": "markdown",
   "id": "e3e3080c",
   "metadata": {},
   "source": [
    "# Esercizio 6\n",
    "\n",
    "\n",
    "Vi vengono fornite 2 liste contenenti le posizioni GPS misurate tramite smartphone di due persone immaginarie che vivono a Trento. Ogni lista contiene delle tuple, in cui sono salvate latitudine e longitudine di ogni traiettoria. \n",
    "\n",
    "\n",
    "```python\n",
    "gps_id1 = [\n",
    "    (46.0700, 11.1215), (46.0712, 11.1198), (46.0725, 11.1180), \n",
    "    (46.0738, 11.1162), (46.0750, 11.1145), (46.0763, 11.1128),\n",
    "    (46.0775, 11.1110), (46.0788, 11.1093), (46.0800, 11.1075),\n",
    "    (46.0813, 11.1058), (46.0825, 11.1040), (46.0838, 11.1023),\n",
    "    (46.0850, 11.1005), (46.0863, 11.0988), (46.0875, 11.0970)\n",
    "]\n",
    "\n",
    "gps_id2 = [\n",
    "    (46.0600, 11.1300), (46.0612, 11.1285), (46.0625, 11.1270), \n",
    "    (46.0638, 11.1255), (46.0650, 11.1240), (46.0663, 11.1225),\n",
    "    (46.0675, 11.1210), (46.0688, 11.1195), (46.0700, 11.1180),\n",
    "    (46.0713, 11.1165), (46.0725, 11.1150), (46.0738, 11.1135),\n",
    "    (46.0750, 11.1120), (46.0763, 11.1105), (46.0775, 11.1090),\n",
    "    (46.0788, 11.1075), (46.0800, 11.1060), (46.0813, 11.1045),\n",
    "    (46.0825, 11.1030), (46.0838, 11.1015)\n",
    "]\n",
    "```\n",
    "\n",
    "1. Scrivi un'espressione booleana che restituisce `True` se il numero di punti GPS della lista `gps_id1`  è **maggiore** di quello della lista `gps_id2`.\n",
    "\n",
    "\n",
    "2. Seleziona le prime `n` posizioni della lista più lunga e salvarle in una nuova lista, in modo che le due liste abbiano lo stesso numero di elementi. Controllare con un'espressione booleana che le due liste abbiano la stessa lunghezza. \n",
    "\n",
    "\n",
    "3. Conta quante volte l'individuo numero 2, le cui posizioni sono salvate in `gps_id2`, ha oltrepassato la latitudine Nord `lat = 46.0680976`, corrispondente al Dipartimento di Sociologia e Ricerca Sociale.  \n"
   ]
  },
  {
   "cell_type": "code",
   "execution_count": null,
   "id": "a6bc878a",
   "metadata": {},
   "outputs": [],
   "source": [
    "gps_id1 = [\n",
    "    (46.0700, 11.1215), (46.0712, 11.1198), (46.0725, 11.1180), \n",
    "    (46.0738, 11.1162), (46.0750, 11.1145), (46.0763, 11.1128),\n",
    "    (46.0775, 11.1110), (46.0788, 11.1093), (46.0800, 11.1075),\n",
    "    (46.0813, 11.1058), (46.0825, 11.1040), (46.0838, 11.1023),\n",
    "    (46.0850, 11.1005), (46.0863, 11.0988), (46.0875, 11.0970)\n",
    "]\n",
    "\n",
    "gps_id2 = [\n",
    "    (46.0600, 11.1300), (46.0612, 11.1285), (46.0625, 11.1270), \n",
    "    (46.0638, 11.1255), (46.0650, 11.1240), (46.0663, 11.1225),\n",
    "    (46.0675, 11.1210), (46.0688, 11.1195), (46.0700, 11.1180),\n",
    "    (46.0713, 11.1165), (46.0725, 11.1150), (46.0738, 11.1135),\n",
    "    (46.0750, 11.1120), (46.0763, 11.1105), (46.0775, 11.1090),\n",
    "    (46.0788, 11.1075), (46.0800, 11.1060), (46.0813, 11.1045),\n",
    "    (46.0825, 11.1030), (46.0838, 11.1015)\n",
    "]\n",
    "\n",
    "lat = 46.0680976\n",
    "\n",
    "#scrivi qui la soluzione "
   ]
  }
 ],
 "metadata": {
  "kernelspec": {
   "display_name": "Python 3 (ipykernel)",
   "language": "python",
   "name": "python3"
  },
  "language_info": {
   "codemirror_mode": {
    "name": "ipython",
    "version": 3
   },
   "file_extension": ".py",
   "mimetype": "text/x-python",
   "name": "python",
   "nbconvert_exporter": "python",
   "pygments_lexer": "ipython3",
   "version": "3.11.11"
  }
 },
 "nbformat": 4,
 "nbformat_minor": 5
}
