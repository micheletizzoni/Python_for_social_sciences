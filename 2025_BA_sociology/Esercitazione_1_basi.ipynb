{
 "cells": [
  {
   "cell_type": "markdown",
   "id": "68af1f98",
   "metadata": {},
   "source": [
    "## Esercitazione \n",
    "Marzo 2025"
   ]
  },
  {
   "cell_type": "code",
   "execution_count": 1,
   "id": "db98c9f9",
   "metadata": {},
   "outputs": [],
   "source": [
    "import math"
   ]
  },
  {
   "cell_type": "markdown",
   "id": "71dfb370",
   "metadata": {},
   "source": [
    "# Esercizio 1 \n",
    "\n",
    "1. Nel piano cartesiano, date le coordinate di un punto `x` e `y`, calcola la distanza `r` del punto dall'origine usando la formula $r =  \\sqrt{x^2 + y^2}$. Stampa il risultato con un `print`. \n",
    "\n",
    "\n",
    "2. Calcola la lunghezza della circonferenza del cerchio di raggio `r` usando la formula: $C =  2 \\pi r$. Stampa il risultato con il comando `print`.\n",
    "\n",
    "\n",
    "3. Date le coordinate di un altro punto nel piano cartesiano, `x1` e `y1`, calcola la distanza `r1` del punto dall'origine (usando sempre la stessa formula). Scrivi un'espressione booleana che restituisce `True` se la distanza `r1` è maggiore di `r` e stampa il risultato con un `print`.\n"
   ]
  },
  {
   "cell_type": "code",
   "execution_count": null,
   "id": "1801aa31",
   "metadata": {},
   "outputs": [],
   "source": []
  },
  {
   "cell_type": "markdown",
   "id": "fd11790f",
   "metadata": {},
   "source": [
    "# Esercizio 2\n",
    "\n",
    "Secondo le leggi della fisica classica: \n",
    "- un oggetto in movimento ha un'energia cinetica definita dalla formula: $E = \\frac{1}{2} mv^2$ dove $m$ e $v$ sono la massa e la velocità dell'oggetto. \n",
    "- un oggetto posto ad altezza $h$ rispetto al suolo ha un'energia potenziale definita dalla formula: $U = g h m$ dove $m$ è la massa e $g$ è l'accelerazione di gravità.\n",
    "\n",
    "1. Data la massa `m` e la velocità `v`, scrivi in Python una formula che calcola l'energia cinetica `E` di un oggetto in movimento. Stampa il risultato con un `print`. \n",
    "\n",
    "\n",
    "2. Dati i valori di `m`, `h` e `g`, scrivi in Python una formula che calcola l'energia potenziale `U` di un oggetto. Stampa il risultato con un `print`. \n",
    "\n",
    "\n",
    "3. Confronta l'energia cinetica e quella potenziale trovate, e scrivi un'espressione booleana che restituisce True solo se l'energia cinetica è **minore** di quella potenziale. Stampa il risultato con un `print`. \n"
   ]
  },
  {
   "cell_type": "code",
   "execution_count": null,
   "id": "4753da4e",
   "metadata": {},
   "outputs": [],
   "source": [
    "m = 5\n",
    "v = 5.6\n",
    "#scrivi qui di seguito la formula per l'energia cinetica \n",
    "\n",
    "\n",
    "h = 2.5\n",
    "g = 9.81\n",
    "#scrivi qui di seguito la soluzione per l'energia potenziale\n"
   ]
  },
  {
   "cell_type": "markdown",
   "id": "d0660882",
   "metadata": {},
   "source": [
    "# Esercizio 3\n",
    "\n",
    "Data un'equazione di secondo grado del tipo $ax^2 + bx + c = 0$ dove $a$, $b$ e $c$ sono coefficienti reali, le radici dell'equazione si trovano con la formula:\n",
    "\n",
    "$x = \\frac{- b \\pm \\sqrt{b^2 - 4ac}}{2a}$ \n",
    "\n",
    "Dati i coefficienti `a`, `b`, e `c`:\n",
    "\n",
    "1. Scrivere un programma Python che calcola il valore di $x$ usando la formula, sopraindicata. E' importante notare che ci sono due possibili segni davanti alla radice quadrata, quindi due possibili valori di $x$.\n",
    "\n",
    "\n",
    "2. Scrivere un programma Python che verifichi se è valida la condizione $b^2 - 4ac>0$ e stampi la condizione booleana dopo la domanda `Le radici dell'equazione sono reali e diverse?`\n",
    "\n",
    "\n",
    "3. Scrivere un programma Python che verifichi se è valida la condizione $b^2 = 4ac$ e stampi la condizione booleana dopo la domanda `Le radici dell'equazione sono reali e identiche?`\n",
    "\n"
   ]
  },
  {
   "cell_type": "code",
   "execution_count": null,
   "id": "935bef08",
   "metadata": {},
   "outputs": [],
   "source": [
    "a = 1\n",
    "b = 10\n",
    "c = -24"
   ]
  },
  {
   "cell_type": "markdown",
   "id": "8179b27d",
   "metadata": {},
   "source": [
    "# Esercizio 4\n",
    "\n",
    "In demografia l'indice di vecchiaia (old age index) misura il rapporto tra la popolazione over 65 e quella under 5 di un paese.\n",
    "\n",
    "Indichiamo con `pop_ita` la popolazione italiana nel 2023 e con `pop_5` il numero di bambini di età inferiore ai 5 anni, e con `pop_65` il numero di persone di età superiore ai 65 anni.\n",
    "\n",
    "1. Calcolare la percentuale di popolazione corrispondente a `pop_5` e `pop_65`;\n",
    "2. Calcolare l'indice di vecchiaia dell'Italia."
   ]
  },
  {
   "cell_type": "code",
   "execution_count": null,
   "id": "84f342ee",
   "metadata": {},
   "outputs": [],
   "source": [
    "pop_ita = 58997201\n",
    "pop_5 = 2085244\n",
    "pop_65 = 14181307\n"
   ]
  }
 ],
 "metadata": {
  "kernelspec": {
   "display_name": "Python 3 (ipykernel)",
   "language": "python",
   "name": "python3"
  },
  "language_info": {
   "codemirror_mode": {
    "name": "ipython",
    "version": 3
   },
   "file_extension": ".py",
   "mimetype": "text/x-python",
   "name": "python",
   "nbconvert_exporter": "python",
   "pygments_lexer": "ipython3",
   "version": "3.11.11"
  }
 },
 "nbformat": 4,
 "nbformat_minor": 5
}
