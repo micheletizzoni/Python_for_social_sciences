{
 "cells": [
  {
   "cell_type": "markdown",
   "id": "2e1176ff",
   "metadata": {},
   "source": [
    "---\n",
    "\n",
    "# Introduzione ai big data e ai metodi computazionali\n",
    "\n",
    "## Laurea in Sociologia\n",
    "\n",
    "\n",
    "\n",
    "# Esercitazione 2\n",
    "\n",
    "Michele Tizzoni\n",
    "\n",
    "---"
   ]
  },
  {
   "cell_type": "markdown",
   "id": "4cba5817",
   "metadata": {},
   "source": [
    "# Esercizio 1 - Lettura di file\n",
    "\n",
    "Insieme al notebook trovate il file `cty_covariates.csv`.\n",
    "Si tratta di dati demografici e socio-economici degli Stati Uniti, riportati per ogni contea americana.\n",
    "Il dataset proviene dal sito [Opportunity Atlas](https://www.opportunityatlas.org/).\n",
    "\n",
    "Richieste:\n",
    "1. Usando la libreria `pandas` importare il file dentro un nuovo dataframe.\n",
    "2. Mostrare a schermo le prime 5 righe del dataframe.\n",
    "3. Stampare l'elenco delle variabili che rappresentano le colonne del dataframe.\n"
   ]
  },
  {
   "cell_type": "code",
   "execution_count": 1,
   "id": "99120e6d",
   "metadata": {},
   "outputs": [],
   "source": [
    "import pandas as pd"
   ]
  },
  {
   "cell_type": "code",
   "execution_count": 2,
   "id": "a534da73-d1b7-4a18-84f5-4fb59fe39190",
   "metadata": {},
   "outputs": [],
   "source": [
    "#scrivi qui la soluzione\n",
    "df = pd.read_csv('./cty_covariates.csv')"
   ]
  },
  {
   "cell_type": "code",
   "execution_count": 3,
   "id": "0a491596",
   "metadata": {},
   "outputs": [
    {
     "data": {
      "text/html": [
       "<div>\n",
       "<style scoped>\n",
       "    .dataframe tbody tr th:only-of-type {\n",
       "        vertical-align: middle;\n",
       "    }\n",
       "\n",
       "    .dataframe tbody tr th {\n",
       "        vertical-align: top;\n",
       "    }\n",
       "\n",
       "    .dataframe thead th {\n",
       "        text-align: right;\n",
       "    }\n",
       "</style>\n",
       "<table border=\"1\" class=\"dataframe\">\n",
       "  <thead>\n",
       "    <tr style=\"text-align: right;\">\n",
       "      <th></th>\n",
       "      <th>state</th>\n",
       "      <th>county</th>\n",
       "      <th>cz</th>\n",
       "      <th>czname</th>\n",
       "      <th>hhinc_mean2000</th>\n",
       "      <th>mean_commutetime2000</th>\n",
       "      <th>frac_coll_plus2000</th>\n",
       "      <th>frac_coll_plus2010</th>\n",
       "      <th>foreign_share2010</th>\n",
       "      <th>med_hhinc1990</th>\n",
       "      <th>...</th>\n",
       "      <th>singleparent_share1990</th>\n",
       "      <th>singleparent_share2000</th>\n",
       "      <th>traveltime15_2010</th>\n",
       "      <th>emp2000</th>\n",
       "      <th>mail_return_rate2010</th>\n",
       "      <th>ln_wage_growth_hs_grad</th>\n",
       "      <th>popdensity2010</th>\n",
       "      <th>popdensity2000</th>\n",
       "      <th>ann_avg_job_growth_2004_2013</th>\n",
       "      <th>job_density_2013</th>\n",
       "    </tr>\n",
       "  </thead>\n",
       "  <tbody>\n",
       "    <tr>\n",
       "      <th>0</th>\n",
       "      <td>1</td>\n",
       "      <td>1</td>\n",
       "      <td>11101.0</td>\n",
       "      <td>Montgomery</td>\n",
       "      <td>74699.969</td>\n",
       "      <td>28.490602</td>\n",
       "      <td>0.189735</td>\n",
       "      <td>0.221990</td>\n",
       "      <td>0.020155</td>\n",
       "      <td>29718.635194</td>\n",
       "      <td>...</td>\n",
       "      <td>0.165540</td>\n",
       "      <td>0.240811</td>\n",
       "      <td>0.204163</td>\n",
       "      <td>0.609586</td>\n",
       "      <td>82.333183</td>\n",
       "      <td>-0.063314</td>\n",
       "      <td>91.802681</td>\n",
       "      <td>73.466034</td>\n",
       "      <td>0.010145</td>\n",
       "      <td>40.719135</td>\n",
       "    </tr>\n",
       "    <tr>\n",
       "      <th>1</th>\n",
       "      <td>1</td>\n",
       "      <td>3</td>\n",
       "      <td>11001.0</td>\n",
       "      <td>Mobile</td>\n",
       "      <td>76064.086</td>\n",
       "      <td>26.501080</td>\n",
       "      <td>0.230036</td>\n",
       "      <td>0.260710</td>\n",
       "      <td>0.037592</td>\n",
       "      <td>26435.690624</td>\n",
       "      <td>...</td>\n",
       "      <td>0.184214</td>\n",
       "      <td>0.237883</td>\n",
       "      <td>0.275326</td>\n",
       "      <td>0.577026</td>\n",
       "      <td>80.034088</td>\n",
       "      <td>0.030093</td>\n",
       "      <td>114.647510</td>\n",
       "      <td>88.323204</td>\n",
       "      <td>0.012950</td>\n",
       "      <td>50.085987</td>\n",
       "    </tr>\n",
       "    <tr>\n",
       "      <th>2</th>\n",
       "      <td>1</td>\n",
       "      <td>5</td>\n",
       "      <td>10301.0</td>\n",
       "      <td>Eufaula</td>\n",
       "      <td>51246.004</td>\n",
       "      <td>24.047514</td>\n",
       "      <td>0.107450</td>\n",
       "      <td>0.133496</td>\n",
       "      <td>0.028144</td>\n",
       "      <td>19026.749741</td>\n",
       "      <td>...</td>\n",
       "      <td>0.271470</td>\n",
       "      <td>0.393263</td>\n",
       "      <td>0.376049</td>\n",
       "      <td>0.453271</td>\n",
       "      <td>74.899071</td>\n",
       "      <td>0.189366</td>\n",
       "      <td>31.029207</td>\n",
       "      <td>32.818073</td>\n",
       "      <td>-0.020756</td>\n",
       "      <td>9.230672</td>\n",
       "    </tr>\n",
       "    <tr>\n",
       "      <th>3</th>\n",
       "      <td>1</td>\n",
       "      <td>7</td>\n",
       "      <td>10801.0</td>\n",
       "      <td>Tuscaloosa</td>\n",
       "      <td>55094.492</td>\n",
       "      <td>32.875317</td>\n",
       "      <td>0.070026</td>\n",
       "      <td>0.099241</td>\n",
       "      <td>0.006859</td>\n",
       "      <td>19696.785014</td>\n",
       "      <td>...</td>\n",
       "      <td>0.188628</td>\n",
       "      <td>0.257294</td>\n",
       "      <td>0.252683</td>\n",
       "      <td>0.494241</td>\n",
       "      <td>70.003571</td>\n",
       "      <td>-0.020073</td>\n",
       "      <td>36.806339</td>\n",
       "      <td>33.450962</td>\n",
       "      <td>-0.004645</td>\n",
       "      <td>12.875392</td>\n",
       "    </tr>\n",
       "    <tr>\n",
       "      <th>4</th>\n",
       "      <td>1</td>\n",
       "      <td>9</td>\n",
       "      <td>10700.0</td>\n",
       "      <td>Birmingham</td>\n",
       "      <td>62749.727</td>\n",
       "      <td>36.189240</td>\n",
       "      <td>0.096214</td>\n",
       "      <td>0.126334</td>\n",
       "      <td>0.047343</td>\n",
       "      <td>23159.691502</td>\n",
       "      <td>...</td>\n",
       "      <td>0.122455</td>\n",
       "      <td>0.173408</td>\n",
       "      <td>0.194344</td>\n",
       "      <td>0.577810</td>\n",
       "      <td>83.100349</td>\n",
       "      <td>0.096463</td>\n",
       "      <td>88.902191</td>\n",
       "      <td>79.148064</td>\n",
       "      <td>-0.008120</td>\n",
       "      <td>36.175354</td>\n",
       "    </tr>\n",
       "  </tbody>\n",
       "</table>\n",
       "<p>5 rows × 35 columns</p>\n",
       "</div>"
      ],
      "text/plain": [
       "   state  county       cz      czname  hhinc_mean2000  mean_commutetime2000   \n",
       "0      1       1  11101.0  Montgomery       74699.969             28.490602  \\\n",
       "1      1       3  11001.0      Mobile       76064.086             26.501080   \n",
       "2      1       5  10301.0     Eufaula       51246.004             24.047514   \n",
       "3      1       7  10801.0  Tuscaloosa       55094.492             32.875317   \n",
       "4      1       9  10700.0  Birmingham       62749.727             36.189240   \n",
       "\n",
       "   frac_coll_plus2000  frac_coll_plus2010  foreign_share2010  med_hhinc1990   \n",
       "0            0.189735            0.221990           0.020155   29718.635194  \\\n",
       "1            0.230036            0.260710           0.037592   26435.690624   \n",
       "2            0.107450            0.133496           0.028144   19026.749741   \n",
       "3            0.070026            0.099241           0.006859   19696.785014   \n",
       "4            0.096214            0.126334           0.047343   23159.691502   \n",
       "\n",
       "   ...  singleparent_share1990  singleparent_share2000  traveltime15_2010   \n",
       "0  ...                0.165540                0.240811           0.204163  \\\n",
       "1  ...                0.184214                0.237883           0.275326   \n",
       "2  ...                0.271470                0.393263           0.376049   \n",
       "3  ...                0.188628                0.257294           0.252683   \n",
       "4  ...                0.122455                0.173408           0.194344   \n",
       "\n",
       "    emp2000  mail_return_rate2010  ln_wage_growth_hs_grad  popdensity2010   \n",
       "0  0.609586             82.333183               -0.063314       91.802681  \\\n",
       "1  0.577026             80.034088                0.030093      114.647510   \n",
       "2  0.453271             74.899071                0.189366       31.029207   \n",
       "3  0.494241             70.003571               -0.020073       36.806339   \n",
       "4  0.577810             83.100349                0.096463       88.902191   \n",
       "\n",
       "   popdensity2000  ann_avg_job_growth_2004_2013  job_density_2013  \n",
       "0       73.466034                      0.010145         40.719135  \n",
       "1       88.323204                      0.012950         50.085987  \n",
       "2       32.818073                     -0.020756          9.230672  \n",
       "3       33.450962                     -0.004645         12.875392  \n",
       "4       79.148064                     -0.008120         36.175354  \n",
       "\n",
       "[5 rows x 35 columns]"
      ]
     },
     "execution_count": 3,
     "metadata": {},
     "output_type": "execute_result"
    }
   ],
   "source": [
    "df.head()"
   ]
  },
  {
   "cell_type": "code",
   "execution_count": 4,
   "id": "6fe3bda1",
   "metadata": {},
   "outputs": [
    {
     "data": {
      "text/plain": [
       "Index(['state', 'county', 'cz', 'czname', 'hhinc_mean2000',\n",
       "       'mean_commutetime2000', 'frac_coll_plus2000', 'frac_coll_plus2010',\n",
       "       'foreign_share2010', 'med_hhinc1990', 'med_hhinc2016', 'poor_share2010',\n",
       "       'poor_share2000', 'poor_share1990', 'share_white2010',\n",
       "       'share_black2010', 'share_hisp2010', 'share_asian2010',\n",
       "       'share_black2000', 'share_white2000', 'share_hisp2000',\n",
       "       'share_asian2000', 'gsmn_math_g3_2013', 'rent_twobed2015',\n",
       "       'singleparent_share2010', 'singleparent_share1990',\n",
       "       'singleparent_share2000', 'traveltime15_2010', 'emp2000',\n",
       "       'mail_return_rate2010', 'ln_wage_growth_hs_grad', 'popdensity2010',\n",
       "       'popdensity2000', 'ann_avg_job_growth_2004_2013', 'job_density_2013'],\n",
       "      dtype='object')"
      ]
     },
     "execution_count": 4,
     "metadata": {},
     "output_type": "execute_result"
    }
   ],
   "source": [
    "df.columns"
   ]
  },
  {
   "cell_type": "markdown",
   "id": "d932404d",
   "metadata": {},
   "source": [
    "# Esercizio 2 - Selezione e analisi\n",
    "\n",
    "Dal dataframe precedente, selezionare la variable `med_hhinc2016` che rappresenta il reddito mediano delle famiglie residenti nell'anno 2016 e identificare (stampando a schermo):\n",
    "\n",
    "1. La contea degli USA con il valore massimo di `med_hhinc2016`.\n",
    "\n",
    "2. Il valore medio di `med_hhinc2016` in tutte le contee degli USA.\n",
    "\n",
    "\n",
    "\n",
    "\n"
   ]
  },
  {
   "cell_type": "code",
   "execution_count": 11,
   "id": "7f397754-8959-40bd-8864-b28a8bc72f9b",
   "metadata": {},
   "outputs": [],
   "source": [
    "#salvo in un dataframe la riga con il valore massimo di med_hhinc2016\n",
    "\n",
    "df2 = df[ df['med_hhinc2016']==df['med_hhinc2016'].max() ]"
   ]
  },
  {
   "cell_type": "code",
   "execution_count": 15,
   "id": "db0ee100-77e9-4412-878c-92e43ddb0c62",
   "metadata": {
    "tags": []
   },
   "outputs": [
    {
     "data": {
      "text/plain": [
       "2872    Washington DC\n",
       "Name: czname, dtype: object"
      ]
     },
     "execution_count": 15,
     "metadata": {},
     "output_type": "execute_result"
    }
   ],
   "source": [
    "#stampo il nome della contea con il massimo reddito mediano familiare\n",
    "df2['czname']"
   ]
  },
  {
   "cell_type": "code",
   "execution_count": 16,
   "id": "99d64fcd-d0a5-4fa3-9781-f3134f2de3f5",
   "metadata": {
    "tags": []
   },
   "outputs": [
    {
     "name": "stdout",
     "output_type": "stream",
     "text": [
      "La media della variabile med_hhinc2016 su tutti gli USA è 48259.86991227927 dollari.\n"
     ]
    }
   ],
   "source": [
    "#stampo la media della variabile med_hhinc2016 su tutte le contee degli USA\n",
    "\n",
    "avg_medhhinc = df['med_hhinc2016'].mean()\n",
    "\n",
    "print('La media della variabile med_hhinc2016 su tutti gli USA è', avg_medhhinc, 'dollari.')"
   ]
  },
  {
   "cell_type": "markdown",
   "id": "f23a4a55",
   "metadata": {},
   "source": [
    "# Esercizio 3 - Visualizzazione"
   ]
  },
  {
   "cell_type": "markdown",
   "id": "0b695f5b",
   "metadata": {},
   "source": [
    "Usando la libreria `matplotlib` creare una figura che mostri la relazione esistente tra due variabili del dataset importato.\n",
    "In particolare:\n",
    "\n",
    "1. Disegnare un grafico che mostri il reddito mediano famigliare annuo nel 2016 (`med_hhinc2016`) sull'asse y e la percentuale di popolazione afro-americana nel 2010 (`share_black2010`) sull'asse x. I valori devono essere visualizzati come punti blu.\n",
    "\n",
    "2. Aggiungere le seguenti etichette sugli assi: `household median income 2016 ($)` per l'asse y, `share of black population (2010)` per l'asse x.\n"
   ]
  },
  {
   "cell_type": "code",
   "execution_count": 17,
   "id": "b2f1360a",
   "metadata": {},
   "outputs": [],
   "source": [
    "import matplotlib.pyplot as plt\n",
    "%matplotlib inline"
   ]
  },
  {
   "cell_type": "code",
   "execution_count": 19,
   "id": "a1f66e37",
   "metadata": {},
   "outputs": [
    {
     "data": {
      "text/plain": [
       "Text(0, 0.5, 'household median income 2016 ($)')"
      ]
     },
     "execution_count": 19,
     "metadata": {},
     "output_type": "execute_result"
    },
    {
     "data": {
      "image/png": "[encoded data removed]",
      "text/plain": [
       "<Figure size 800x600 with 1 Axes>"
      ]
     },
     "metadata": {},
     "output_type": "display_data"
    }
   ],
   "source": [
    "plt.figure(figsize=(8,6))\n",
    "\n",
    "plt.plot(df['share_black2010'], df['med_hhinc2016'], 'o', markersize=5)\n",
    "\n",
    "plt.xlabel('share of black population (2010)')\n",
    "plt.ylabel('household median income 2016 ($)')\n"
   ]
  },
  {
   "cell_type": "markdown",
   "id": "10946524",
   "metadata": {},
   "source": [
    "# Esercizio 4 - Controllo di flusso"
   ]
  },
  {
   "cell_type": "markdown",
   "id": "64d5f733",
   "metadata": {},
   "source": [
    "Dato il seguente dizionario:\n",
    "\n",
    "```python\n",
    "states={'California': 6, 'Georgia': 13, 'Maine': 23}\n",
    "```\n",
    "che assegna ad ogni stato americano un codice univoco, come quello presente nel dataset, \n",
    "usare un ciclo `for`, per ogni stato presente come chiave del dizionario e:\n",
    "1. selezionare nel dataset solo le contee di quello stato (identificato dalla variable numerica `state`);\n",
    "2. calcolare il valore medio di `med_hhinc2016` in tutte le contee di quello stato;\n",
    "2. stampare il nome dello stato e il valore medio di `med_hhinc2016`."
   ]
  },
  {
   "cell_type": "code",
   "execution_count": 21,
   "id": "1a4a8fae",
   "metadata": {},
   "outputs": [],
   "source": [
    "states={'California': 6, 'Georgia': 13, 'Maine':23}"
   ]
  },
  {
   "cell_type": "code",
   "execution_count": 24,
   "id": "05b6e91d",
   "metadata": {},
   "outputs": [
    {
     "name": "stdout",
     "output_type": "stream",
     "text": [
      "In California il valore medio della variabile med_hhinc2016 è 60779.70015192415\n",
      "In Georgia il valore medio della variabile med_hhinc2016 è 42518.241208151536\n",
      "In Maine il valore medio della variabile med_hhinc2016 è 48296.17271210717\n"
     ]
    }
   ],
   "source": [
    "#inizio il ciclo for sulle chiavi del dizionario\n",
    "for state in states:\n",
    "    #print(state)\n",
    "    #print(states[state])\n",
    "    \n",
    "    codice = states[state]\n",
    "    \n",
    "    df_state = df[df['state']==codice]\n",
    "    \n",
    "    media_inc = df_state['med_hhinc2016'].mean()\n",
    "    \n",
    "    print('In',state,'il valore medio della variabile med_hhinc2016 è', media_inc)\n",
    "\n",
    "\n"
   ]
  },
  {
   "cell_type": "markdown",
   "id": "00c23889",
   "metadata": {},
   "source": [
    "# Esercizio 5 - Funzioni"
   ]
  },
  {
   "cell_type": "markdown",
   "id": "f6678227",
   "metadata": {},
   "source": [
    "Scrivere una funzione chiamata `analyze_state` che prende come **input** 3 variabili:\n",
    "\n",
    "1. il dataframe con il dataset che stiamo analizzando;\n",
    "2. il dizionario states definito nell'esercizio 4; \n",
    "3. una stringa che rappresenta il nome di uno stato presente come chiave nel dizionario;\n",
    "\n",
    "e restituisce come **output** la seguente scritta:\n",
    "1. \"Nel 2010, la percentuale media di popolazione afro-americana in STATE era AVGBLACK\"\n",
    "\n",
    "dove `STATE` è il nome dello stato e `AVGBLACK` è la media della variabile `share_black2010` nelle contee di quello stato.\n",
    "\n",
    "Verificare che la funzione dia il risultato atteso per lo stato 'California'."
   ]
  },
  {
   "cell_type": "code",
   "execution_count": 25,
   "id": "3d4cf814",
   "metadata": {},
   "outputs": [],
   "source": [
    "def analyze_state(df, states, state):\n",
    "    \n",
    "    codice = states[state]\n",
    "    \n",
    "    df_state = df[df['state']==codice]\n",
    "    \n",
    "    avgblack = df_state['share_black2010'].mean()\n",
    "    \n",
    "    print('Nel 2010, la percentuale media di popolazione afro-americana in',state,'era',avgblack)\n",
    "    \n",
    "    \n",
    "    "
   ]
  },
  {
   "cell_type": "code",
   "execution_count": 26,
   "id": "27afff67-afc0-4567-856d-bf7d550c58d6",
   "metadata": {
    "tags": []
   },
   "outputs": [
    {
     "name": "stdout",
     "output_type": "stream",
     "text": [
      "Nel 2010, la percentuale media di popolazione afro-americana in California era 0.0362626999087931\n"
     ]
    }
   ],
   "source": [
    "analyze_state(df, states, 'California')"
   ]
  },
  {
   "cell_type": "code",
   "execution_count": null,
   "id": "6e87da3e-5b56-4496-8a5e-794a6dc01cbd",
   "metadata": {},
   "outputs": [],
   "source": []
  }
 ],
 "metadata": {
  "kernelspec": {
   "display_name": "Python 3 (ipykernel)",
   "language": "python",
   "name": "python3"
  },
  "language_info": {
   "codemirror_mode": {
    "name": "ipython",
    "version": 3
   },
   "file_extension": ".py",
   "mimetype": "text/x-python",
   "name": "python",
   "nbconvert_exporter": "python",
   "pygments_lexer": "ipython3",
   "version": "3.11.3"
  }
 },
 "nbformat": 4,
 "nbformat_minor": 5
}
