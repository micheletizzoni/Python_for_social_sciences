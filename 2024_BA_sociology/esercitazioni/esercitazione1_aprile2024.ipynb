{
 "cells": [
  {
   "cell_type": "markdown",
   "id": "2e1176ff",
   "metadata": {},
   "source": [
    "---\n",
    "\n",
    "# Introduzione ai big data e ai metodi computazionali\n",
    "\n",
    "## Laurea in Sociologia\n",
    "\n",
    "\n",
    "\n",
    "# Esercitazione 1 \n",
    "\n",
    "Michele Tizzoni\n",
    "\n",
    "---"
   ]
  },
  {
   "cell_type": "markdown",
   "id": "a36546db",
   "metadata": {},
   "source": [
    "# Esercizi - Basi"
   ]
  },
  {
   "cell_type": "markdown",
   "id": "4cba5817",
   "metadata": {},
   "source": [
    "## Es 1\n",
    "\n",
    "Dato il valore del raggio `r`, e l'altezza `h`, calcolare le tre quantità seguenti e salvarle in tre diverse variabili:\n",
    "\n",
    "- L’area di un cerchio di raggio `r`: a = $\\pi \\times r^2$.\n",
    "- Il volume di un cilindro avente come base il cerchio di raggio `r` e altezza `h`: v1 = $h \\times \\pi r^2$.\n",
    "\n",
    "\n",
    "Una volta calcolate le variabili `a`, e `v1` stampare con il comando `print()` la seguente espressione:\n",
    "\n",
    "```\n",
    "L'area di un cerchio di raggio `r` è uguale a `a`.\n",
    "\n",
    "Il volume di un cilindro con base il cerchio di raggio `r` e altezza `h` è uguale a `v1`.\n",
    "```\n",
    "\n"
   ]
  },
  {
   "cell_type": "code",
   "execution_count": null,
   "id": "54f35a2c",
   "metadata": {},
   "outputs": [],
   "source": [
    "import math\n",
    "\n",
    "r = 2.5\n",
    "h = 4\n",
    "\n",
    "#scrivi qui di seguito la soluzione \n",
    "\n"
   ]
  },
  {
   "cell_type": "markdown",
   "id": "d932404d",
   "metadata": {},
   "source": [
    "## Es 2 "
   ]
  },
  {
   "cell_type": "markdown",
   "id": "419e1343-f3a4-4fdf-b1af-4b7ba91157fc",
   "metadata": {},
   "source": [
    "Dato il valore del raggio `r` scrivere un'espressione che stampa `True` se e solo se sono verificate due condizioni contemporaneamente:\n",
    "\n",
    "1. un cerchio di area `a_cerchio` ha una superficie **minore** del cerchio di raggio `r`.\n",
    "2. una cubo di volume `v_cubo` ha un volume **maggiore** del cilindro di raggio `r` e altezza `h`\n"
   ]
  },
  {
   "cell_type": "code",
   "execution_count": null,
   "id": "44cb21b9-6c67-4f82-b3c5-214811cbddb5",
   "metadata": {
    "tags": []
   },
   "outputs": [],
   "source": [
    "r = 2.5\n",
    "a_cerchio = 10\n",
    "v_sfera = 5\n",
    "\n",
    "#scrivi qui di seguito la soluzione \n",
    "\n"
   ]
  },
  {
   "cell_type": "markdown",
   "id": "ffdd4b2b",
   "metadata": {},
   "source": [
    "## Es. 3\n",
    "\n",
    "In demografia l'indice di vecchiaia (old age index) misura il rapporto tra la popolazione over 65 e quella under 5 di un paese.\n",
    "\n",
    "Indichiamo con `pop_ita` la popolazione italiana nel 2023 e con `pop_5` il numero di bambini di età inferiore ai 5 anni, e con `pop_65` il numero di persone di età superiore ai 65 anni.\n",
    "\n",
    "1. Calcolare la percentuale di popolazione corrispondente a `pop_5` e `pop_65`;\n",
    "2. Calcolare l'indice di vecchiaia dell'Italia."
   ]
  },
  {
   "cell_type": "code",
   "execution_count": null,
   "id": "8addc441",
   "metadata": {},
   "outputs": [],
   "source": [
    "pop_ita = 58997201\n",
    "pop_5 = 2085244\n",
    "pop_65 = 14181307\n",
    "\n",
    "#scrivi qui di seguito la soluzione \n"
   ]
  },
  {
   "cell_type": "markdown",
   "id": "f23a4a55",
   "metadata": {},
   "source": [
    "# Esercizi - stringhe"
   ]
  },
  {
   "cell_type": "markdown",
   "id": "3214dfcd-6e89-4a18-b589-238c0e567fe1",
   "metadata": {},
   "source": [
    "## Es. 1\n",
    "\n",
    "Data la stringa con il famoso scioglilingua: \n",
    "\n",
    "```\n",
    "Trentatré trentini entrarono trotterellando in Trento tutti e trentatré trotterellando\n",
    "```\n",
    "\n",
    "- contare quante volte compaiono nella stringa le sequenza di lettere: 'tre', 'tré' o 'Tre'\n",
    "- sostituire nella stringa le parole 'Trentatré' e 'trentatré' con '33' e salvare il risultato in una nuova stringa\n"
   ]
  },
  {
   "cell_type": "code",
   "execution_count": null,
   "id": "3ed12675-c999-460e-a61b-d5d01f913fc0",
   "metadata": {
    "tags": []
   },
   "outputs": [],
   "source": [
    "stringa = \"Trentatré trentini entrarono trotterellando in Trento tutti e trentatré trotterellando\"\n",
    "\n",
    "#scrivi qui di seguito la soluzione \n",
    "\n"
   ]
  },
  {
   "cell_type": "markdown",
   "id": "651eaf09",
   "metadata": {},
   "source": [
    "## Es. 2\n",
    "\n",
    "Un gruppo anonimo di hackers ha acquisito una lista di indirizzi email che vorrebbe usare per accedere al conto corrente degli ignari utenti della banca \"MyBank\". Per prima cosa è necessario verificare se ogni indirizzo email è composto in modo corretto.\n",
    "\n",
    "Gli hackers sanno che ogni indirizzo email di un utente dovrebbe essere così composto:\n",
    "\n",
    "`[solo lettere].[solo lettere]@mybank.com`\n",
    "\n",
    "Per esempio questo è un indirizzo email valido: `nome.cognome@mybank.com`.\n",
    "\n",
    "Scrivi del codice che stampa `True` se la stringa è un indirizzo email valido, `False` altrimenti.\n",
    "\n",
    "Prova le varie combinazioni scommentando la variabile `email`\n",
    "\n",
    "Il codice deve essere generico, valido per qualsiasi stringa."
   ]
  },
  {
   "cell_type": "code",
   "execution_count": null,
   "id": "76b83d36",
   "metadata": {},
   "outputs": [],
   "source": [
    "#email = 'nome.cognome@mybank.com' #True\n",
    "#email = 'mio.nome@aol.com' #False\n",
    "#email = '1@mybank.com' #False\n",
    "#email = 'maybank.com' #False\n",
    "#email = 'mio.nome@mybank.it' #False\n",
    "\n",
    "\n",
    "#scrivi qui di seguito la soluzione\n",
    "\n"
   ]
  },
  {
   "cell_type": "markdown",
   "id": "d367224e",
   "metadata": {},
   "source": [
    "# Esercizi - liste"
   ]
  },
  {
   "cell_type": "markdown",
   "id": "10946524",
   "metadata": {},
   "source": [
    "## Es 1"
   ]
  },
  {
   "cell_type": "markdown",
   "id": "64d5f733",
   "metadata": {},
   "source": [
    "Data la stringa con il famoso scioglilingua: \n",
    "\n",
    "```\n",
    "Trentatré trentini entrarono trotterellando in Trento tutti e trentatré trotterellando\n",
    "```\n",
    "\n",
    "- stampare la lista che contiene tutte le parole dello scioglilingua\n",
    "- scrivere del codice che restituisce `True` se e solo se la prima parola della lista è \"Trentatré\" e l'ultima parola della lista è \"trotterellando\""
   ]
  },
  {
   "cell_type": "code",
   "execution_count": null,
   "id": "16438800",
   "metadata": {},
   "outputs": [],
   "source": [
    "stringa = \"Trentatré trentini entrarono trotterellando in Trento tutti e trentatré trotterellando\"\n",
    "\n",
    "#scrivi qui di seguito la soluzione \n"
   ]
  },
  {
   "cell_type": "markdown",
   "id": "0cc6f4fc",
   "metadata": {},
   "source": [
    "## Es. 2"
   ]
  },
  {
   "cell_type": "markdown",
   "id": "eae0e208",
   "metadata": {},
   "source": [
    "`voti` è una lista contenente i tuoi voti. Complimenti! \n",
    "1. Riesci a calcolarne la media? \n",
    "2. Stampa la lista con i voti ordine crescente, dal più basso al più alto"
   ]
  },
  {
   "cell_type": "code",
   "execution_count": 1,
   "id": "6d5eed98",
   "metadata": {},
   "outputs": [],
   "source": [
    "voti = [28, 29, 29, 30, 30, 27, 30, 27]\n",
    "\n",
    "#scrivi qui di seguito la soluzione \n"
   ]
  },
  {
   "cell_type": "markdown",
   "id": "909af8c4",
   "metadata": {},
   "source": [
    "## Es . 3\n",
    "\n",
    "Un indirizzo MAC (Media Access Control address) è un indirizzo univoco associato dal produttore a un chipset per comunicazioni wireless (es WiFi o Bluetooth), composto da 6 coppie di cifre esadecimali separate da due punti.\n",
    "\n",
    "Un esempio di MAC è `02:FF:A5:F2:55:12` dove '02' è la prima coppia, 'FF' è la seconda e '12' è l'ultima.\n",
    "\n",
    "Scrivi un codice che a partire da un indirizzo MAC dato, come quello d'esempio:\n",
    "- stampa la lista che contiene tutte le coppie di cifre esadecimali (lettere o numeri) che formano l'indirizzo MAC,\n",
    "- stampa `True` se le coppie di cifre sono esattamente 6 e `False` altrimenti,\n",
    "- salva il primo e l'ultimo numero dell'indirizzo MAC come interi e ne stampa la somma."
   ]
  },
  {
   "cell_type": "code",
   "execution_count": null,
   "id": "1f744580",
   "metadata": {},
   "outputs": [],
   "source": [
    "MAC = '02:FF:A5:F2:55:12'\n",
    "\n",
    "#scrivi qui di seguito la soluzione \n"
   ]
  },
  {
   "cell_type": "markdown",
   "id": "00c23889",
   "metadata": {},
   "source": [
    "# Esercizi - dizionari"
   ]
  },
  {
   "cell_type": "markdown",
   "id": "f6678227",
   "metadata": {},
   "source": [
    "## Es. 1\n",
    "\n",
    "Dato il dizionario\n",
    "\n",
    "```python\n",
    "rubrica = {\n",
    "    'Anna': '+39 032135',\n",
    "    'Carlo': '+39 999111',\n",
    "    'Sofia': '+39 222333',\n",
    "    'Lucia': '+39 444555',\n",
    "    'Michele': '+39 909091',\n",
    "}\n",
    "```\n",
    "\n",
    "- modificare il dizionario e aggiungere una nuova chiave 'Marco' con numero di telefono '+42 657332'\n",
    "- scrivere del codice che restituisce True se e solo se la rubrica contiene i numeri di **meno** di 10 persone"
   ]
  },
  {
   "cell_type": "code",
   "execution_count": null,
   "id": "949c9a85",
   "metadata": {},
   "outputs": [],
   "source": [
    "rubrica = {\n",
    "    'Anna': '+39 032135',\n",
    "    'Carlo': '+39 999111',\n",
    "    'Sofia': '+39 222333',\n",
    "    'Lucia': '+39 444555',\n",
    "    'Michele': '+39 909091',\n",
    "}\n",
    "\n",
    "#scrivi qui di seguito la soluzione\n",
    "\n"
   ]
  },
  {
   "cell_type": "markdown",
   "id": "e2ffe8c7",
   "metadata": {},
   "source": [
    "## Es. 2\n",
    "\n",
    "Dato il dizionario\n",
    "\n",
    "```python\n",
    "mappa = {\n",
    "    \"zero\": 1,\n",
    "    \"uno\": 2,\n",
    "    \"due\": 4,\n",
    "    \"tre\": 8,\n",
    "    \"quattro\": 16,\n",
    "}\n",
    "```\n",
    "\n",
    "- scrivere del codice che produce la stringa `concat_chiavi` che è uguale a: `zero_uno_due_tre_quattro`.\n",
    "- scrivere del codice che stampa la somma di tutti a valori del dizionario"
   ]
  },
  {
   "cell_type": "code",
   "execution_count": null,
   "id": "781a8182",
   "metadata": {},
   "outputs": [],
   "source": [
    "mappa = {\n",
    "    \"zero\": 1,\n",
    "    \"uno\": 2,\n",
    "    \"due\": 4,\n",
    "    \"tre\": 8,\n",
    "    \"quattro\": 16,\n",
    "}\n",
    "\n",
    "#scrivi qui di seguito la soluzione\n"
   ]
  },
  {
   "cell_type": "markdown",
   "id": "f13151de",
   "metadata": {},
   "source": [
    "## Es. 3\n",
    "\n",
    "Una compagnia di pescatori ogni giorno cattura dei `pesci` che poi rivende a vari ristoranti. Ogni ristorante richiede diversi specie di pesci. \n",
    "\n",
    "Dati un `ristorante` e dei `pesci`, scrivi del codice che stampa `True` se il ristorante cucina quei pesci, altrimenti stampa `False`."
   ]
  },
  {
   "cell_type": "code",
   "execution_count": null,
   "id": "7d29428c",
   "metadata": {},
   "outputs": [],
   "source": [
    "ristorante, pesci = \"Il Galeone\", \"carpe\"            # True\n",
    "#ristorante, pesci = \"Il Galeone\", \"aringhe\"         # False\n",
    "#ristorante, pesci = \"Al Molo\",    \"trote\"           # True\n",
    "#ristorante, pesci = \"Al Molo\",    \"orate\"           # False\n",
    "#ristorante, pesci = \"La Cambusa\", \"merluzzi\"        # False\n",
    "\n",
    "\n",
    "registro = {\n",
    "    \"L'Ancora\"  : ['aringhe', 'carpe'],\n",
    "    \"Il Galeone\": ['merluzzi', 'carpe', 'trote'],\n",
    "    \"Al Molo\"   : ['trote'],\n",
    "    \"La Cambusa\": ['aringhe', 'carpe'],\n",
    "}\n",
    "\n",
    "# scrivi qui di seguito la soluzione\n"
   ]
  },
  {
   "cell_type": "markdown",
   "id": "d4b7eccb",
   "metadata": {},
   "source": [
    "# Esercizi - set\n",
    "\n",
    "## Es. 1\n",
    "\n",
    "Evviva! Ci siamo laureati! E per coincidenza ci siamo riusciti nella stessa sessione dei nostri \n",
    "grandi amici Gianni e Giulia. Ora naturalmente stiamo cercando di organizzare una festa e ci piacerebbe \n",
    "farla tutti insieme. \n",
    "\n",
    "Purtroppo però a causa delle norme Covid non possiamo fare assembramento e \n",
    "sono perciò vietate i raduni con più di **13** persone.\n",
    "\n",
    "Siccome ora siamo dottori, l'idea è quella di risolvere il problema con un bel programmino Python. Abbiamo tre liste di invitati e siccome noi festeggiati siamo tutti amici ci sono ovviamente persone che verrebbero invitate più volte.\n",
    "\n",
    "1. Trova il numero di invitati effettivi (le persone che verranno alla festa)\n",
    "2. Stampa la lista di nomi SENZA duplicati\n",
    "3. Trova il numero delle persone che hanno ricevuto **almeno** 2 inviti\n",
    "4. Trova l'elenco delle persone che hanno ricevuto **almeno** 2 inviti\n",
    "\n",
    "\n",
    "Esempio - dati:\n",
    "\n",
    "```python\n",
    "invitati_miei =   [\"VittorioG\", \"LucaB\", \"DavidL\", \"GiorgioC\", \"MichelaF\", \"GiuliaA\", \"VittorioG\", ]\n",
    "invitati_gianni = [\"SamanthaV\", \"LucaB\", \"GiorgioC\", \"MichelaF\", \"MartaB\", \"EmmaK\"]\n",
    "invitati_giulia = [\"DavidL\", \"GiorgioC\", \"MichelaF\", \"MassimilianoL\", \"VittorioG\", \"RobertoU\", \"EmmaK\"]\n",
    "```\n",
    "\n",
    "\n",
    "dopo il tuo codice, deve stampare:\n",
    "\n",
    "```\n",
    "Invitati miei:  6\n",
    "Invitati gianni:  6\n",
    "Invitati giulia:  7\n",
    "Numero invitati:  11\n",
    "Nomi invitati:  {'MassimilianoL', 'MartaB', 'MichelaF', 'EmmaK', 'GiorgioC', 'DavidL', 'VittorioG', 'SamanthaV', 'RobertoU', 'LucaB', 'GiuliaA'}\n",
    "Numero amici invitati almeno 2 volte: 6\n",
    "Amici invitati almeno due volte:  {'GiorgioC', 'DavidL', 'MichelaF', 'VittorioG', 'LucaB', 'EmmaK'}\n",
    "```\n"
   ]
  },
  {
   "cell_type": "code",
   "execution_count": null,
   "id": "7b3671a4",
   "metadata": {},
   "outputs": [],
   "source": [
    "invitati_miei =   [\"VittorioG\", \"LucaB\", \"DavidL\", \"GiorgioC\", \"MichelaF\", \"GiuliaA\", \"VittorioG\", ]\n",
    "invitati_gianni = [\"SamanthaV\", \"LucaB\", \"GiorgioC\", \"MichelaF\", \"MartaB\", \"EmmaK\"]\n",
    "invitati_giulia = [\"DavidL\", \"GiorgioC\", \"MichelaF\", \"MassimilianoL\", \"VittorioG\", \"RobertoU\", \"EmmaK\"]\n",
    "\n",
    "# scrivi qui la tua soluzione"
   ]
  },
  {
   "cell_type": "markdown",
   "id": "93804338",
   "metadata": {},
   "source": [
    "# Esercizi - tuple\n",
    "\n",
    "## Es. 1\n",
    "\n",
    "Data la stringa `s = \"mela|pera|mela|ciliegia|pera|mela|pera|pera|ciliegia|pera|fragola\"`\n",
    "\n",
    "Inserisci gli elementi separati da `\"|\"` in una lista.\n",
    "    \n",
    "1. Quanti elementi deve avere la lista?\n",
    "2. Sapendo che la lista creata al punto precedente ha solo quattro elementi distinti (es `\"mela\"`, `\"pera\"`, `\"ciliegia\"`, e `\"fragola\"`), crea un'altra lista dove ogni elemento è una tupla contenente il nome del frutto e la sua moltiplicità (cioè il numero di volte che compare nella lista originale). Esempio:\n",
    "\n",
    "```python\n",
    "conteggi = [(\"mela\", 3), (\"pera\",5), ...]\n",
    "```\n",
    "\n",
    "Qua puoi scrivere codice che funziona data una specifica costante, quindi non hai bisogno di cicli.\n",
    "\n",
    "3. Stampa il contenuto di ciascuna tupla in una linea separata (es: prima linea: `\"mela\"` è presente 3 volte)\n",
    "\n",
    "Dovresti ottenere:\n",
    "\n",
    "```bash\n",
    "['mela', 'pera', 'mela', 'ciliegia', 'pera', 'mela', 'pera', 'pera', 'ciliegia', 'pera', 'fragola']\n",
    "[('mela', 3), ('pera', 5), ('ciliegia', 2), ('fragola', 1)] \n",
    "\n",
    "mela  è presente  3  volte\n",
    "pera  è presente  5  volte\n",
    "ciliegia  è presente  2  volte\n",
    "fragola  è presente  1  volte\n",
    "```"
   ]
  },
  {
   "cell_type": "code",
   "execution_count": null,
   "id": "e55cafb5",
   "metadata": {},
   "outputs": [],
   "source": [
    "s = \"mela|pera|mela|ciliegia|pera|mela|pera|pera|ciliegia|pera|fragola\"\n",
    "\n",
    "#scrivi qui la tua soluzione"
   ]
  }
 ],
 "metadata": {
  "kernelspec": {
   "display_name": "Python 3 (ipykernel)",
   "language": "python",
   "name": "python3"
  },
  "language_info": {
   "codemirror_mode": {
    "name": "ipython",
    "version": 3
   },
   "file_extension": ".py",
   "mimetype": "text/x-python",
   "name": "python",
   "nbconvert_exporter": "python",
   "pygments_lexer": "ipython3",
   "version": "3.11.11"
  }
 },
 "nbformat": 4,
 "nbformat_minor": 5
}
